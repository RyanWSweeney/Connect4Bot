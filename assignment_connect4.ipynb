{
 "cells": [
  {
   "cell_type": "markdown",
   "metadata": {
    "id": "Jms0zERuOoKS"
   },
   "source": [
    "# Adversarial Search: Playing Connect 4\n",
    "\n",
    "Student Name: Ryan Sweeney\n",
    "\n",
    "I have used the following AI tools: Torch\n",
    "\n",
    "I understand that my submission needs to be my own work: RS\n",
    "\n",
    "## Instructions\n",
    "\n",
    "Total Points: Undegraduates 100, graduate students 110\n",
    "\n",
    "Complete this notebook and submit it. The notebook needs to be a complete project report with your implementation, documentation including a short discussion of how your implementation works and your design choices, and experimental results (e.g., tables and charts with simulation results) with a short discussion of what they mean. Use the provided notebook cells and insert additional code and markdown cells as needed.\n",
    "\n",
    "## Introduction\n",
    "\n",
    "You will implement different versions of agents that play Connect 4:\n",
    "\n",
    "> \"Connect 4 is a two-player connection board game, in which the players choose a color and then take turns dropping colored discs into a seven-column, six-row vertically suspended grid. The pieces fall straight down, occupying the lowest available space within the column. The objective of the game is to be the first to form a horizontal, vertical, or diagonal line of four of one's own discs.\" (see [Connect Four on Wikipedia](https://en.wikipedia.org/wiki/Connect_Four))\n",
    "\n",
    "Note that [Connect-4 has been solved](https://en.wikipedia.org/wiki/Connect_Four#Mathematical_solution)\n",
    "in 1988. A connect-4 solver with a discussion of how to solve different parts of the problem can be found here: https://connect4.gamesolver.org/en/"
   ]
  },
  {
   "cell_type": "markdown",
   "metadata": {
    "id": "2i7dtd6KOoKU"
   },
   "source": [
    "## Task 1: Defining the Search Problem [10 point]\n",
    "\n",
    "Define the components of the search problem:\n",
    "\n",
    "* Initial state\n",
    "* Actions\n",
    "* Transition model (result function)\n",
    "* Goal state (terminal state and utility)"
   ]
  },
  {
   "cell_type": "code",
   "execution_count": null,
   "metadata": {
    "id": "GXR-fk-kOoKU"
   },
   "outputs": [],
   "source": [
    "# Your code/answer goes here."
   ]
  },
  {
   "cell_type": "markdown",
   "metadata": {
    "id": "JpHG5M2DOoKV"
   },
   "source": [
    "How big is the state space? Give an estimate and explain it."
   ]
  },
  {
   "cell_type": "code",
   "execution_count": null,
   "metadata": {
    "id": "EoczIZ0TOoKV"
   },
   "outputs": [],
   "source": [
    "# Your code/ answer goes here."
   ]
  },
  {
   "cell_type": "markdown",
   "metadata": {
    "id": "519lFLu-OoKW"
   },
   "source": [
    "How big is the game tree that minimax search will go through? Give an estimate and explain it."
   ]
  },
  {
   "cell_type": "code",
   "execution_count": null,
   "metadata": {
    "id": "irPW2zotOoKW"
   },
   "outputs": [],
   "source": [
    "# Your code/ answer goes here."
   ]
  },
  {
   "cell_type": "markdown",
   "metadata": {
    "id": "J1RDE4PMOoKW"
   },
   "source": [
    "## Task 2: Game Environment and Random Agent [25 point]\n",
    "\n",
    "Use a numpy character array as the board."
   ]
  },
  {
   "cell_type": "code",
   "execution_count": 8,
   "metadata": {
    "id": "1I-PyExgOoKW",
    "outputId": "96821dd0-6425-4215-914e-5f1c105a0016",
    "ExecuteTime": {
     "end_time": "2024-04-22T14:50:53.988558Z",
     "start_time": "2024-04-22T14:50:53.981332Z"
    }
   },
   "outputs": [],
   "source": [
    "import numpy as np\n",
    "import matplotlib.pyplot as plt\n",
    "\n",
    "class ConnectFourBoard:\n",
    "    def __init__(self, rows=6, columns=7):\n",
    "        self.rows = rows\n",
    "        self.columns = columns\n",
    "        self.move_sequence = []  # List of moves using 1-based indexing\n",
    "\n",
    "    def drop_piece(self, column):\n",
    "        \"\"\" Record a move in the sequence for the given 1-based column number. \"\"\"\n",
    "        if column < 1 or column > self.columns:\n",
    "            raise ValueError(\"Column out of bounds\")\n",
    "        if self.move_sequence.count(column) >= self.rows:\n",
    "            raise ValueError(\"Column is full\")\n",
    "        self.move_sequence.append(column)  # Store as 1-based index\n",
    "\n",
    "    def get_board_state(self):\n",
    "        \"\"\" Reconstruct the board state from the move sequence. \"\"\"\n",
    "        board = np.zeros((self.rows, self.columns), dtype=int)\n",
    "        player = 1  # Start with player 1\n",
    "        for move in self.move_sequence:\n",
    "            # Convert 1-based index to 0-based for processing\n",
    "            move -= 1\n",
    "            for r in range(self.rows-1, -1, -1):\n",
    "                if board[r][move] == 0:\n",
    "                    board[r][move] = player\n",
    "                    break\n",
    "            player *= -1  # Switch player\n",
    "        return board\n",
    "\n",
    "    def visualize(self):\n",
    "        \"\"\" Visualize the board. \"\"\"\n",
    "        board = self.get_board_state()\n",
    "        plt.axes()\n",
    "        rectangle = plt.Rectangle((-0.5, self.rows * -1 + 0.5), self.columns, self.rows, fc='blue')\n",
    "        plt.gca().add_patch(rectangle)\n",
    "\n",
    "        for i in range(self.rows):\n",
    "            for j in range(self.columns):\n",
    "                val = board[i][j]\n",
    "                color = 'white' if val == 0 else 'red' if val == 1 else 'yellow'\n",
    "                circle = plt.Circle((j, i * -1), 0.4, fc=color)\n",
    "                plt.gca().add_patch(circle)\n",
    "\n",
    "        plt.axis('scaled')\n",
    "        plt.show()\n"
   ]
  },
  {
   "cell_type": "markdown",
   "metadata": {
    "id": "McxPB_NUOoKX"
   },
   "source": [
    "The standard board is $6 \\times 7$ but you can use smaller boards to test your code. Instead of colors (red and yellow), I use 1 and -1 to represent the players. Make sure that your agent functions all have the from: `agent_type(board, player = 1)`, where board is the current board position (in the format above) and player is the player whose next move it is and who the agent should play (as 1 and -1)."
   ]
  },
  {
   "cell_type": "code",
   "execution_count": 11,
   "metadata": {
    "tags": [],
    "id": "RP9AL_CUOoKX",
    "outputId": "f475697c-4cdf-46d4-9eb0-952a7134e752",
    "ExecuteTime": {
     "end_time": "2024-04-22T14:52:19.367736Z",
     "start_time": "2024-04-22T14:52:19.260573Z"
    }
   },
   "outputs": [
    {
     "data": {
      "text/plain": "<Figure size 640x480 with 1 Axes>",
      "image/png": "[encoded data removed]"
     },
     "metadata": {},
     "output_type": "display_data"
    }
   ],
   "source": [
    "# Visualization code by Randolph Rankin\n",
    "\n",
    "board = ConnectFourBoard()\n",
    "board.drop_piece(4)  # Player 1 in column 3\n",
    "board.drop_piece(4)  # Player 2 in column 3\n",
    "board.drop_piece(3)  # Player 1 in column 4\n",
    "board.drop_piece(2)  # Player 2 in column 3\n",
    "board.visualize()"
   ]
  },
  {
   "cell_type": "markdown",
   "metadata": {
    "tags": [],
    "id": "etcNi9q9OoKX"
   },
   "source": [
    "Implement helper functions for:\n",
    "\n",
    "* A check for available actions in each state `actions(s)`.\n",
    "* The transition model `result(s, a)`.\n",
    "* Check for terminal states `terminal(s)`.\n",
    "* The utility function `utility(s)`.\n",
    "\n",
    "Make sure that all these functions work with boards of different sizes (number of columns and rows)."
   ]
  },
  {
   "cell_type": "code",
   "execution_count": 21,
   "metadata": {
    "id": "gqEHGAjeOoKX",
    "ExecuteTime": {
     "end_time": "2024-04-22T15:05:04.323567Z",
     "start_time": "2024-04-22T15:05:04.316103Z"
    }
   },
   "outputs": [],
   "source": [
    "# Your code/ answer goes here.\n",
    "class ConnectFourBoard:\n",
    "    def __init__(self, rows=6, columns=7):\n",
    "        self.rows = rows\n",
    "        self.columns = columns\n",
    "        self.move_sequence = []  # List of moves using 1-based indexing\n",
    "\n",
    "    def drop_piece(self, column):\n",
    "        if column < 1 or column > self.columns:\n",
    "            raise ValueError(\"Column out of bounds\")\n",
    "        if self.move_sequence.count(column) >= self.rows:\n",
    "            raise ValueError(\"Column is full\")\n",
    "        self.move_sequence.append(column)\n",
    "\n",
    "    def get_board_state(self):\n",
    "        board = np.zeros((self.rows, self.columns), dtype=int)\n",
    "        player = 1\n",
    "        for move in self.move_sequence:\n",
    "            move -= 1  # Convert to 0-based index\n",
    "            for r in range(self.rows-1, -1, -1):\n",
    "                if board[r][move] == 0:\n",
    "                    board[r][move] = player\n",
    "                    break\n",
    "            player *= -1\n",
    "        return board\n",
    "\n",
    "    def actions(self):\n",
    "        # Available actions: return columns that are not full\n",
    "        return [c for c in range(1, self.columns + 1) if self.move_sequence.count(c) < self.rows]\n",
    "\n",
    "    def result(self, action):\n",
    "        # Result after action: returns a new board state after applying the action\n",
    "        new_board = ConnectFourBoard(self.rows, self.columns)\n",
    "        new_board.move_sequence = self.move_sequence[:]\n",
    "        new_board.drop_piece(action)\n",
    "        return new_board\n",
    "\n",
    "    def terminal(self):\n",
    "        if self.is_winner(1) or self.is_winner(-1):\n",
    "            return True\n",
    "        if all(self.move_sequence.count(c) == self.rows for c in range(1, self.columns + 1)):\n",
    "            return True\n",
    "        return False\n",
    "\n",
    "\n",
    "    def utility(self):\n",
    "        if self.is_winner(1):\n",
    "            return 1  # Win for player 1\n",
    "        elif self.is_winner(-1):\n",
    "            return -1  # Win for player 2\n",
    "        else:\n",
    "            return 0  # Draw\n",
    "\n",
    "\n",
    "    def is_winner(self, player):\n",
    "        board = self.get_board_state()\n",
    "        # Check horizontal, vertical, diagonal\n",
    "        for r in range(self.rows):\n",
    "            for c in range(self.columns):\n",
    "                if (c <= self.columns - 4 and all(board[r][c + i] == player for i in range(4))) or \\\n",
    "                   (r <= self.rows - 4 and all(board[r + i][c] == player for i in range(4))) or \\\n",
    "                   (r <= self.rows - 4 and c <= self.columns - 4 and all(board[r + i][c + i] == player for i in range(4))) or \\\n",
    "                   (r <= self.rows - 4 and c >= 3 and all(board[r + i][c - i] == player for i in range(4))):\n",
    "                    return True\n",
    "        return False\n",
    "\n",
    "\n",
    "    def visualize(self):\n",
    "        board = self.get_board_state()\n",
    "        plt.axes()\n",
    "        rectangle = plt.Rectangle((-0.5, self.rows * -1 + 0.5), self.columns, self.rows, fc='blue')\n",
    "        plt.gca().add_patch(rectangle)\n",
    "        for i in range(self.rows):\n",
    "            for j in range(self.columns):\n",
    "                val = board[i][j]\n",
    "                color = 'white' if val == 0 else 'red' if val == 1 else 'yellow'\n",
    "                circle = plt.Circle((j, i * -1), 0.4, fc=color)\n",
    "                plt.gca().add_patch(circle)\n",
    "        plt.axis('scaled')\n",
    "        plt.show()"
   ]
  },
  {
   "cell_type": "markdown",
   "metadata": {
    "id": "dHFZ-RY3OoKY"
   },
   "source": [
    "Implement an agent that plays randomly. Make sure the agent function receives as the percept the board and returns a valid action. Use an agent function definition with the following signature (arguments):\n",
    "\n",
    "`def random_player(board, player = 1): ...`\n",
    "\n",
    "The argument `player` is used for agents that do not store what color they are playing. The value passed on by the environment should be 1 ot -1 for player red and yellow, respectively.  See [Experiments section for tic-tac-toe](https://nbviewer.org/github/mhahsler/CS7320-AI/blob/master/Games/tictactoe_and_or_tree_search.ipynb#Experiments) for an example."
   ]
  },
  {
   "cell_type": "code",
   "execution_count": 22,
   "metadata": {
    "id": "aF9OyHerOoKY",
    "ExecuteTime": {
     "end_time": "2024-04-22T15:05:05.454923Z",
     "start_time": "2024-04-22T15:05:05.444095Z"
    }
   },
   "outputs": [],
   "source": [
    "# Your code/ answer goes here.\n",
    "\n",
    "def random_player(board, player = 1):\n",
    "    return np.random.choice(board.actions())"
   ]
  },
  {
   "cell_type": "markdown",
   "metadata": {
    "id": "ErVJ4a7MOoKY"
   },
   "source": [
    "Let two random agents play against each other 1000 times. Look at the [Experiments section for tic-tac-toe](https://nbviewer.org/github/mhahsler/CS7320-AI/blob/master/Games/tictactoe_and_or_tree_search.ipynb#Experiments) to see how the environment uses the agent functions to play against each other.\n",
    "\n",
    "How often does each player win? Is the result expected?"
   ]
  },
  {
   "cell_type": "code",
   "execution_count": 28,
   "metadata": {
    "tags": [],
    "id": "5CPUs3cDOoKY",
    "ExecuteTime": {
     "end_time": "2024-04-22T15:05:56.994130Z",
     "start_time": "2024-04-22T15:05:53.571464Z"
    }
   },
   "outputs": [
    {
     "name": "stdout",
     "output_type": "stream",
     "text": [
      "Player 1 wins: 564\n",
      "Player 2 wins: 435\n",
      "Draws: 1\n"
     ]
    }
   ],
   "source": [
    "# Your code/ answer goes here.\n",
    "\n",
    "# Create a Connect Four board\n",
    "board = ConnectFourBoard()\n",
    "\n",
    "# Play 1000 games\n",
    "results = []\n",
    "for i in range(1000):\n",
    "    # Reset the board\n",
    "    board = ConnectFourBoard()\n",
    "    # Play until the game is over\n",
    "    while not board.terminal():\n",
    "        # Player 1\n",
    "        action = random_player(board, 1)\n",
    "        board = board.result(action)\n",
    "        if board.terminal():\n",
    "            break\n",
    "        # Player 2\n",
    "        action = random_player(board, -1)\n",
    "        board = board.result(action)\n",
    "    results.append(board.utility())\n",
    "    #visualize the board\n",
    "    # board.visualize()\n",
    "    \n",
    "# Count the number of wins for each player\n",
    "player1_wins = results.count(1)\n",
    "player2_wins = results.count(-1)\n",
    "draws = results.count(0)\n",
    "\n",
    "print(f\"Player 1 wins: {player1_wins}\")\n",
    "print(f\"Player 2 wins: {player2_wins}\")\n",
    "print(f\"Draws: {draws}\")\n"
   ]
  },
  {
   "cell_type": "markdown",
   "metadata": {
    "id": "JAQyLcoOOoKY"
   },
   "source": [
    "## Task 3: Minimax Search with Alpha-Beta Pruning\n",
    "\n",
    "### Implement the Search [20 points]\n",
    "\n",
    "Implement minimax search starting from a given board for specifying the player.\n",
    "You can use code from the [tic-tac-toe example](https://nbviewer.org/github/mhahsler/CS7320-AI/blob/master/Games/tictactoe_alpha_beta_tree_search.ipynb).\n",
    "\n",
    "__Important Notes:__\n",
    "* Make sure that all your agent functions have a signature consistent with the random agent above and that it [uses a class to store state information.](https://nbviewer.org/github/mhahsler/CS7320-AI/blob/master/HOWTOs/store_agent_state_information.ipynb)\n",
    "This is essential to be able play against agents from other students later.\n",
    "* The search space for a $6 \\times 7$ board is large. You can experiment with smaller boards (the smallest is $4 \\times 4$) and/or changing the winning rule to connect 3 instead of 4."
   ]
  },
  {
   "cell_type": "code",
   "execution_count": 29,
   "metadata": {
    "id": "ZUukMQHmOoKY",
    "ExecuteTime": {
     "end_time": "2024-04-22T15:10:42.992254Z",
     "start_time": "2024-04-22T15:10:42.981899Z"
    }
   },
   "outputs": [],
   "source": [
    "# Your code/ answer goes here."
   ]
  },
  {
   "cell_type": "markdown",
   "metadata": {
    "id": "5r11GuIwOoKY"
   },
   "source": [
    "Experiment with some manually created boards (at least 5) to check if the agent spots winning opportunities."
   ]
  },
  {
   "cell_type": "code",
   "execution_count": 45,
   "metadata": {
    "id": "Xw2O8OplOoKY",
    "ExecuteTime": {
     "end_time": "2024-04-22T15:30:11.310706Z",
     "start_time": "2024-04-22T15:30:11.302473Z"
    }
   },
   "outputs": [],
   "source": [
    "import random \n",
    "\n",
    "class Position:\n",
    "    WIDTH = 7\n",
    "    HEIGHT = 6\n",
    "\n",
    "    def __init__(self):\n",
    "        self.board = [[0 for _ in range(self.HEIGHT)] for _ in range(self.WIDTH)]\n",
    "        self.height = [0] * self.WIDTH\n",
    "        self.moves = 0\n",
    "\n",
    "    def can_play(self, col):\n",
    "        return self.height[col] < self.HEIGHT\n",
    "\n",
    "    def play(self, col):\n",
    "        if not self.can_play(col):\n",
    "            raise ValueError(\"Column is full or invalid move\")\n",
    "        self.board[col][self.height[col]] = 1 + self.moves % 2\n",
    "        self.height[col] += 1\n",
    "        self.moves += 1\n",
    "\n",
    "    def is_winning_move(self, col):\n",
    "        if not self.can_play(col):\n",
    "            return False\n",
    "        current_player = 1 + self.moves % 2\n",
    "\n",
    "        # Check vertical alignment\n",
    "        if (self.height[col] >= 3 and\n",
    "            self.board[col][self.height[col] - 1] == current_player and\n",
    "            self.board[col][self.height[col] - 2] == current_player and\n",
    "            self.board[col][self.height[col] - 3] == current_player):\n",
    "            return True\n",
    "\n",
    "        # Check horizontal and diagonal alignments\n",
    "        directions = [(-1, 0), (1, 0), (-1, -1), (1, 1), (-1, 1), (1, -1)]  # (dx, dy) pairs for directions\n",
    "        for dx, dy in directions:\n",
    "            count = 1  # Start with the current stone\n",
    "            # Check in the positive direction\n",
    "            x, y = col + dx, self.height[col] - 1 + dy\n",
    "            while 0 <= x < self.WIDTH and 0 <= y < self.HEIGHT and self.board[x][y] == current_player:\n",
    "                count += 1\n",
    "                x += dx\n",
    "                y += dy\n",
    "            # Check in the negative direction\n",
    "            x, y = col - dx, self.height[col] - 1 - dy\n",
    "            while 0 <= x < self.WIDTH and 0 <= y < self.HEIGHT and self.board[x][y] == current_player:\n",
    "                count += 1\n",
    "                x -= dx\n",
    "                y -= dy\n",
    "            if count >= 4:\n",
    "                return True\n",
    "\n",
    "        return False\n",
    "\n",
    "    def nb_moves(self):\n",
    "        return self.moves\n",
    "    \n",
    "    def visualize_simple(self):\n",
    "        for row in range(self.HEIGHT):\n",
    "            print(\" \".join(str(self.board[col][row]) for col in range(self.WIDTH)))\n",
    "        print()\n",
    "\n",
    "def negamax(position, alpha, beta):\n",
    "    if position.nb_moves() == Position.WIDTH * Position.HEIGHT:\n",
    "        return 0\n",
    "\n",
    "    max_score = -float('inf')\n",
    "    for col in range(Position.WIDTH):\n",
    "        if position.can_play(col) and position.is_winning_move(col):\n",
    "            return (Position.WIDTH * Position.HEIGHT + 1 - position.nb_moves()) // 2\n",
    "\n",
    "    for col in range(Position.WIDTH):\n",
    "        if position.can_play(col):\n",
    "            new_position = Position()\n",
    "            new_position.board = [row[:] for row in position.board]\n",
    "            new_position.height = position.height[:]\n",
    "            new_position.moves = position.moves\n",
    "            new_position.play(col)\n",
    "            score = -negamax(new_position, -beta, -alpha)\n",
    "            if score >= beta:\n",
    "                return score\n",
    "            if score > max_score:\n",
    "                max_score = score\n",
    "            if score > alpha:\n",
    "                alpha = score\n",
    "\n",
    "    return alpha if max_score == -float('inf') else max_score\n",
    "\n",
    "def create_random_position(position, move_count):\n",
    "    for _ in range(move_count):\n",
    "        possible_moves = [col for col in range(Position.WIDTH) if position.can_play(col)]\n",
    "        if not possible_moves:\n",
    "            break\n",
    "        move = random.choice(possible_moves)\n",
    "        position.play(move)\n",
    "        if position.is_winning_move(move):  # End early if a win is detected\n",
    "            break"
   ]
  },
  {
   "cell_type": "code",
   "execution_count": 51,
   "outputs": [
    {
     "name": "stdout",
     "output_type": "stream",
     "text": [
      "0 1 0 0 0 0 2\n",
      "0 0 0 0 0 0 0\n",
      "0 0 0 0 0 0 0\n",
      "0 0 0 0 0 0 0\n",
      "0 0 0 0 0 0 0\n",
      "0 0 0 0 0 0 0\n"
     ]
    },
    {
     "ename": "KeyboardInterrupt",
     "evalue": "",
     "output_type": "error",
     "traceback": [
      "\u001B[0;31m---------------------------------------------------------------------------\u001B[0m",
      "\u001B[0;31mKeyboardInterrupt\u001B[0m                         Traceback (most recent call last)",
      "Cell \u001B[0;32mIn[51], line 12\u001B[0m\n\u001B[1;32m     10\u001B[0m \u001B[38;5;66;03m# Timing and evaluating the position\u001B[39;00m\n\u001B[1;32m     11\u001B[0m start_time \u001B[38;5;241m=\u001B[39m time\u001B[38;5;241m.\u001B[39mtime()\n\u001B[0;32m---> 12\u001B[0m score \u001B[38;5;241m=\u001B[39m \u001B[43mnegamax\u001B[49m\u001B[43m(\u001B[49m\u001B[43mposition\u001B[49m\u001B[43m,\u001B[49m\u001B[43m \u001B[49m\u001B[38;5;241;43m-\u001B[39;49m\u001B[38;5;28;43mfloat\u001B[39;49m\u001B[43m(\u001B[49m\u001B[38;5;124;43m'\u001B[39;49m\u001B[38;5;124;43minf\u001B[39;49m\u001B[38;5;124;43m'\u001B[39;49m\u001B[43m)\u001B[49m\u001B[43m,\u001B[49m\u001B[43m \u001B[49m\u001B[38;5;28;43mfloat\u001B[39;49m\u001B[43m(\u001B[49m\u001B[38;5;124;43m'\u001B[39;49m\u001B[38;5;124;43minf\u001B[39;49m\u001B[38;5;124;43m'\u001B[39;49m\u001B[43m)\u001B[49m\u001B[43m)\u001B[49m\n\u001B[1;32m     13\u001B[0m elapsed_time \u001B[38;5;241m=\u001B[39m time\u001B[38;5;241m.\u001B[39mtime() \u001B[38;5;241m-\u001B[39m start_time\n\u001B[1;32m     15\u001B[0m \u001B[38;5;28mprint\u001B[39m(\u001B[38;5;124mf\u001B[39m\u001B[38;5;124m\"\u001B[39m\u001B[38;5;124mEvaluated score: \u001B[39m\u001B[38;5;132;01m{\u001B[39;00mscore\u001B[38;5;132;01m}\u001B[39;00m\u001B[38;5;124m\"\u001B[39m)\n",
      "Cell \u001B[0;32mIn[45], line 79\u001B[0m, in \u001B[0;36mnegamax\u001B[0;34m(position, alpha, beta)\u001B[0m\n\u001B[1;32m     77\u001B[0m new_position\u001B[38;5;241m.\u001B[39mmoves \u001B[38;5;241m=\u001B[39m position\u001B[38;5;241m.\u001B[39mmoves\n\u001B[1;32m     78\u001B[0m new_position\u001B[38;5;241m.\u001B[39mplay(col)\n\u001B[0;32m---> 79\u001B[0m score \u001B[38;5;241m=\u001B[39m \u001B[38;5;241m-\u001B[39m\u001B[43mnegamax\u001B[49m\u001B[43m(\u001B[49m\u001B[43mnew_position\u001B[49m\u001B[43m,\u001B[49m\u001B[43m \u001B[49m\u001B[38;5;241;43m-\u001B[39;49m\u001B[43mbeta\u001B[49m\u001B[43m,\u001B[49m\u001B[43m \u001B[49m\u001B[38;5;241;43m-\u001B[39;49m\u001B[43malpha\u001B[49m\u001B[43m)\u001B[49m\n\u001B[1;32m     80\u001B[0m \u001B[38;5;28;01mif\u001B[39;00m score \u001B[38;5;241m>\u001B[39m\u001B[38;5;241m=\u001B[39m beta:\n\u001B[1;32m     81\u001B[0m     \u001B[38;5;28;01mreturn\u001B[39;00m score\n",
      "Cell \u001B[0;32mIn[45], line 79\u001B[0m, in \u001B[0;36mnegamax\u001B[0;34m(position, alpha, beta)\u001B[0m\n\u001B[1;32m     77\u001B[0m new_position\u001B[38;5;241m.\u001B[39mmoves \u001B[38;5;241m=\u001B[39m position\u001B[38;5;241m.\u001B[39mmoves\n\u001B[1;32m     78\u001B[0m new_position\u001B[38;5;241m.\u001B[39mplay(col)\n\u001B[0;32m---> 79\u001B[0m score \u001B[38;5;241m=\u001B[39m \u001B[38;5;241m-\u001B[39m\u001B[43mnegamax\u001B[49m\u001B[43m(\u001B[49m\u001B[43mnew_position\u001B[49m\u001B[43m,\u001B[49m\u001B[43m \u001B[49m\u001B[38;5;241;43m-\u001B[39;49m\u001B[43mbeta\u001B[49m\u001B[43m,\u001B[49m\u001B[43m \u001B[49m\u001B[38;5;241;43m-\u001B[39;49m\u001B[43malpha\u001B[49m\u001B[43m)\u001B[49m\n\u001B[1;32m     80\u001B[0m \u001B[38;5;28;01mif\u001B[39;00m score \u001B[38;5;241m>\u001B[39m\u001B[38;5;241m=\u001B[39m beta:\n\u001B[1;32m     81\u001B[0m     \u001B[38;5;28;01mreturn\u001B[39;00m score\n",
      "    \u001B[0;31m[... skipping similar frames: negamax at line 79 (29 times)]\u001B[0m\n",
      "Cell \u001B[0;32mIn[45], line 79\u001B[0m, in \u001B[0;36mnegamax\u001B[0;34m(position, alpha, beta)\u001B[0m\n\u001B[1;32m     77\u001B[0m new_position\u001B[38;5;241m.\u001B[39mmoves \u001B[38;5;241m=\u001B[39m position\u001B[38;5;241m.\u001B[39mmoves\n\u001B[1;32m     78\u001B[0m new_position\u001B[38;5;241m.\u001B[39mplay(col)\n\u001B[0;32m---> 79\u001B[0m score \u001B[38;5;241m=\u001B[39m \u001B[38;5;241m-\u001B[39m\u001B[43mnegamax\u001B[49m\u001B[43m(\u001B[49m\u001B[43mnew_position\u001B[49m\u001B[43m,\u001B[49m\u001B[43m \u001B[49m\u001B[38;5;241;43m-\u001B[39;49m\u001B[43mbeta\u001B[49m\u001B[43m,\u001B[49m\u001B[43m \u001B[49m\u001B[38;5;241;43m-\u001B[39;49m\u001B[43malpha\u001B[49m\u001B[43m)\u001B[49m\n\u001B[1;32m     80\u001B[0m \u001B[38;5;28;01mif\u001B[39;00m score \u001B[38;5;241m>\u001B[39m\u001B[38;5;241m=\u001B[39m beta:\n\u001B[1;32m     81\u001B[0m     \u001B[38;5;28;01mreturn\u001B[39;00m score\n",
      "Cell \u001B[0;32mIn[45], line 74\u001B[0m, in \u001B[0;36mnegamax\u001B[0;34m(position, alpha, beta)\u001B[0m\n\u001B[1;32m     72\u001B[0m \u001B[38;5;28;01mfor\u001B[39;00m col \u001B[38;5;129;01min\u001B[39;00m \u001B[38;5;28mrange\u001B[39m(Position\u001B[38;5;241m.\u001B[39mWIDTH):\n\u001B[1;32m     73\u001B[0m     \u001B[38;5;28;01mif\u001B[39;00m position\u001B[38;5;241m.\u001B[39mcan_play(col):\n\u001B[0;32m---> 74\u001B[0m         new_position \u001B[38;5;241m=\u001B[39m \u001B[43mPosition\u001B[49m\u001B[43m(\u001B[49m\u001B[43m)\u001B[49m\n\u001B[1;32m     75\u001B[0m         new_position\u001B[38;5;241m.\u001B[39mboard \u001B[38;5;241m=\u001B[39m [row[:] \u001B[38;5;28;01mfor\u001B[39;00m row \u001B[38;5;129;01min\u001B[39;00m position\u001B[38;5;241m.\u001B[39mboard]\n\u001B[1;32m     76\u001B[0m         new_position\u001B[38;5;241m.\u001B[39mheight \u001B[38;5;241m=\u001B[39m position\u001B[38;5;241m.\u001B[39mheight[:]\n",
      "Cell \u001B[0;32mIn[45], line 8\u001B[0m, in \u001B[0;36mPosition.__init__\u001B[0;34m(self)\u001B[0m\n\u001B[1;32m      7\u001B[0m \u001B[38;5;28;01mdef\u001B[39;00m \u001B[38;5;21m__init__\u001B[39m(\u001B[38;5;28mself\u001B[39m):\n\u001B[0;32m----> 8\u001B[0m     \u001B[38;5;28mself\u001B[39m\u001B[38;5;241m.\u001B[39mboard \u001B[38;5;241m=\u001B[39m [[\u001B[38;5;241m0\u001B[39m \u001B[38;5;28;01mfor\u001B[39;00m _ \u001B[38;5;129;01min\u001B[39;00m \u001B[38;5;28mrange\u001B[39m(\u001B[38;5;28mself\u001B[39m\u001B[38;5;241m.\u001B[39mHEIGHT)] \u001B[38;5;28;01mfor\u001B[39;00m _ \u001B[38;5;129;01min\u001B[39;00m \u001B[38;5;28mrange\u001B[39m(\u001B[38;5;28mself\u001B[39m\u001B[38;5;241m.\u001B[39mWIDTH)]\n\u001B[1;32m      9\u001B[0m     \u001B[38;5;28mself\u001B[39m\u001B[38;5;241m.\u001B[39mheight \u001B[38;5;241m=\u001B[39m [\u001B[38;5;241m0\u001B[39m] \u001B[38;5;241m*\u001B[39m \u001B[38;5;28mself\u001B[39m\u001B[38;5;241m.\u001B[39mWIDTH\n\u001B[1;32m     10\u001B[0m     \u001B[38;5;28mself\u001B[39m\u001B[38;5;241m.\u001B[39mmoves \u001B[38;5;241m=\u001B[39m \u001B[38;5;241m0\u001B[39m\n",
      "Cell \u001B[0;32mIn[45], line 8\u001B[0m, in \u001B[0;36m<listcomp>\u001B[0;34m(.0)\u001B[0m\n\u001B[1;32m      7\u001B[0m \u001B[38;5;28;01mdef\u001B[39;00m \u001B[38;5;21m__init__\u001B[39m(\u001B[38;5;28mself\u001B[39m):\n\u001B[0;32m----> 8\u001B[0m     \u001B[38;5;28mself\u001B[39m\u001B[38;5;241m.\u001B[39mboard \u001B[38;5;241m=\u001B[39m [[\u001B[38;5;241m0\u001B[39m \u001B[38;5;28;01mfor\u001B[39;00m _ \u001B[38;5;129;01min\u001B[39;00m \u001B[38;5;28mrange\u001B[39m(\u001B[38;5;28mself\u001B[39m\u001B[38;5;241m.\u001B[39mHEIGHT)] \u001B[38;5;28;01mfor\u001B[39;00m _ \u001B[38;5;129;01min\u001B[39;00m \u001B[38;5;28mrange\u001B[39m(\u001B[38;5;28mself\u001B[39m\u001B[38;5;241m.\u001B[39mWIDTH)]\n\u001B[1;32m      9\u001B[0m     \u001B[38;5;28mself\u001B[39m\u001B[38;5;241m.\u001B[39mheight \u001B[38;5;241m=\u001B[39m [\u001B[38;5;241m0\u001B[39m] \u001B[38;5;241m*\u001B[39m \u001B[38;5;28mself\u001B[39m\u001B[38;5;241m.\u001B[39mWIDTH\n\u001B[1;32m     10\u001B[0m     \u001B[38;5;28mself\u001B[39m\u001B[38;5;241m.\u001B[39mmoves \u001B[38;5;241m=\u001B[39m \u001B[38;5;241m0\u001B[39m\n",
      "\u001B[0;31mKeyboardInterrupt\u001B[0m: "
     ]
    }
   ],
   "source": [
    "import time\n",
    "\n",
    "# Initialize the board and simulate some moves\n",
    "move_count = random.randint(0, Position.WIDTH * Position.HEIGHT)  # Random depth\n",
    "position = Position()\n",
    "create_random_position(position, move_count)\n",
    "#visualize the board\n",
    "position.visualize_simple()\n",
    "\n",
    "# Timing and evaluating the position\n",
    "start_time = time.time()\n",
    "score = negamax(position, -float('inf'), float('inf'))\n",
    "elapsed_time = time.time() - start_time\n",
    "\n",
    "print(f\"Evaluated score: {score}\")\n",
    "print(f\"Number of moves: {position.nb_moves()}\")\n",
    "print(f\"Elapsed time: {elapsed_time:.6f} seconds\")\n"
   ],
   "metadata": {
    "collapsed": false,
    "ExecuteTime": {
     "end_time": "2024-04-22T15:43:06.648746Z",
     "start_time": "2024-04-22T15:30:26.218576Z"
    }
   }
  },
  {
   "cell_type": "markdown",
   "metadata": {
    "id": "Vy3LUyl0OoKY"
   },
   "source": [
    "How long does it take to make a move? Start with a smaller board with 4 columns and make the board larger by adding columns."
   ]
  },
  {
   "cell_type": "code",
   "execution_count": null,
   "metadata": {
    "id": "APoQpzGMOoKY",
    "ExecuteTime": {
     "end_time": "2024-04-22T15:43:06.653093Z",
     "start_time": "2024-04-22T15:43:06.652949Z"
    }
   },
   "outputs": [],
   "source": [
    "# Your code/ answer goes here.\n",
    "\n",
    "#moves take varying times depending on how far into the game we are. A board with only 2 moves played takes a long time to evaluate, while a board with 20 moves played takes a very short time to evaluate."
   ]
  },
  {
   "cell_type": "markdown",
   "metadata": {
    "id": "lQLlEEHPOoKZ"
   },
   "source": [
    "### Move ordering [5 points]\n",
    "\n",
    "Starting the search with better moves will increase the efficiency of alpha-beta pruning. Describe and implement a simple move ordering strategy. Make a table that shows how the ordering strategies influence the time it takes to make a move?"
   ]
  },
  {
   "cell_type": "code",
   "execution_count": null,
   "metadata": {
    "id": "NTiZ1fHeOoKZ",
    "ExecuteTime": {
     "end_time": "2024-04-22T15:43:06.654048Z",
     "start_time": "2024-04-22T15:43:06.653187Z"
    }
   },
   "outputs": [],
   "source": [
    "# Your code/ answer goes here.\n",
    "class Position:\n",
    "    WIDTH = 7\n",
    "    HEIGHT = 6\n",
    "\n",
    "    def __init__(self):\n",
    "        self.board = [[0 for _ in range(self.HEIGHT)] for _ in range(self.WIDTH)]\n",
    "        self.height = [0] * self.WIDTH\n",
    "        self.moves = 0\n",
    "        self.column_order = self.initialize_column_order()\n",
    "\n",
    "    def initialize_column_order(self):\n",
    "        # Generate column order prioritizing center columns\n",
    "        order = list(range(self.WIDTH))\n",
    "        order.sort(key=lambda x: abs(x - self.WIDTH // 2))\n",
    "        return order\n",
    "\n",
    "    def can_play(self, col):\n",
    "        return self.height[col] < self.HEIGHT\n",
    "\n",
    "    def play(self, col):\n",
    "        if not self.can_play(col):\n",
    "            raise ValueError(\"Column is full or invalid move\")\n",
    "        self.board[col][self.height[col]] = 1 + self.moves % 2\n",
    "        self.height[col] += 1\n",
    "        self.moves += 1\n",
    "\n",
    "    def is_winning_move(self, col):\n",
    "        if not self.can_play(col):\n",
    "            return False\n",
    "        current_player = 1 + self.moves % 2\n",
    "\n",
    "        # Check vertical alignment\n",
    "        if (self.height[col] >= 3 and\n",
    "            self.board[col][self.height[col] - 1] == current_player and\n",
    "            self.board[col][self.height[col] - 2] == current_player and\n",
    "            self.board[col][self.height[col] - 3] == current_player):\n",
    "            return True\n",
    "\n",
    "        # Check horizontal and diagonal alignments\n",
    "        directions = [(-1, 0), (1, 0), (-1, -1), (1, 1), (-1, 1), (1, -1)]  # (dx, dy) pairs for directions\n",
    "        for dx, dy in directions:\n",
    "            count = 1  # Start with the current stone\n",
    "            # Check in the positive direction\n",
    "            x, y = col + dx, self.height[col] - 1 + dy\n",
    "            while 0 <= x < self.WIDTH and 0 <= y < self.HEIGHT and self.board[x][y] == current_player:\n",
    "                count += 1\n",
    "                x += dx\n",
    "                y += dy\n",
    "            # Check in the negative direction\n",
    "            x, y = col - dx, self.height[col] - 1 - dy\n",
    "            while 0 <= x < self.WIDTH and 0 <= y < self.HEIGHT and self.board[x][y] == current_player:\n",
    "                count += 1\n",
    "                x -= dx\n",
    "                y -= dy\n",
    "            if count >= 4:\n",
    "                return True\n",
    "\n",
    "        return False\n",
    "\n",
    "    def nb_moves(self):\n",
    "        return self.moves\n",
    "\n",
    "def negamax(position, alpha, beta):\n",
    "    if position.nb_moves() == Position.WIDTH * Position.HEIGHT:  # Check for draw\n",
    "        return 0\n",
    "\n",
    "    max_score = -float('inf')\n",
    "    for col in position.column_order:\n",
    "        if position.can_play(col) and position.is_winning_move(col):\n",
    "            return (Position.WIDTH * Position.HEIGHT + 1 - position.nb_moves()) // 2\n",
    "\n",
    "        if position.can_play(col):\n",
    "            new_position = Position()\n",
    "            new_position.board = [row[:] for row in position.board]\n",
    "            new_position.height = position.height[:]\n",
    "            new_position.moves = position.moves\n",
    "            new_position.play(col)\n",
    "            score = -negamax(new_position, -beta, -alpha)\n",
    "            if score >= beta:\n",
    "                return score\n",
    "            if score > max_score:\n",
    "                max_score = score\n",
    "            if score > alpha:\n",
    "                alpha = score\n",
    "\n",
    "    return alpha if max_score == -float('inf') else max_score\n"
   ]
  },
  {
   "cell_type": "markdown",
   "metadata": {
    "id": "vqUBYUWMOoKZ"
   },
   "source": [
    "### The first few moves [5 points]\n",
    "\n",
    "Start with an empty board. This is the worst case scenario for minimax search since it needs solve all possible games that can be played (minus some pruning) before making the decision. What can you do?"
   ]
  },
  {
   "cell_type": "code",
   "execution_count": null,
   "metadata": {
    "id": "ExOq1bbIOoKZ"
   },
   "outputs": [],
   "source": [
    "# Your code/ answer goes here."
   ]
  },
  {
   "cell_type": "markdown",
   "metadata": {
    "id": "AMy2IRTQOoKZ"
   },
   "source": [
    "### Playtime [5 points]\n",
    "\n",
    "Let the Minimax Search agent play a random agent on a small board. Analyze wins, losses and draws."
   ]
  },
  {
   "cell_type": "code",
   "execution_count": null,
   "metadata": {
    "id": "Xk6pcUiPOoKZ"
   },
   "outputs": [],
   "source": [
    "# Your code/ answer goes here."
   ]
  },
  {
   "cell_type": "markdown",
   "metadata": {
    "id": "nqthaIv-OoKZ"
   },
   "source": [
    "## Task 4: Heuristic Alpha-Beta Tree Search\n",
    "\n",
    "### Heuristic evaluation function [15 points]\n",
    "\n",
    "Define and implement a heuristic evaluation function."
   ]
  },
  {
   "cell_type": "code",
   "execution_count": null,
   "metadata": {
    "id": "JpRcK1RcOoKZ"
   },
   "outputs": [],
   "source": [
    "# Your code/ answer goes here."
   ]
  },
  {
   "cell_type": "markdown",
   "metadata": {
    "id": "ppv0NHIUOoKZ"
   },
   "source": [
    "### Cutting Off Search [10 points]\n",
    "\n",
    "Modify your minimax search with alpha-beta pruning to cut off search at a specified depth and use the heuristic evaluation function. Experiment with different cutoff values."
   ]
  },
  {
   "cell_type": "code",
   "execution_count": null,
   "metadata": {
    "id": "g_IeGKQrOoKZ"
   },
   "outputs": [],
   "source": [
    "# Your code/ answer goes here."
   ]
  },
  {
   "cell_type": "markdown",
   "metadata": {
    "id": "dy5xfDvtOoKZ"
   },
   "source": [
    "Experiment with the same manually created boards as above to check if the agent spots wining opportunities."
   ]
  },
  {
   "cell_type": "code",
   "execution_count": null,
   "metadata": {
    "id": "VvMad9VZOoKZ"
   },
   "outputs": [],
   "source": [
    "# Your code/ answer goes here."
   ]
  },
  {
   "cell_type": "markdown",
   "metadata": {
    "id": "5e68wqQSOoKZ"
   },
   "source": [
    "How long does it take to make a move? Start with a smaller board with 4 columns and make the board larger by adding columns."
   ]
  },
  {
   "cell_type": "code",
   "execution_count": null,
   "metadata": {
    "id": "M5JCkXT-OoKZ"
   },
   "outputs": [],
   "source": [
    "# Your code/ answer goes here."
   ]
  },
  {
   "cell_type": "markdown",
   "metadata": {
    "id": "78po8sJUOoKZ"
   },
   "source": [
    "### Playtime [5 points]\n",
    "\n",
    "Let two heuristic search agents (different cutoff depth, different heuristic evaluation function) compete against each other on a reasonably sized board. Since there is no randomness, you only need to let them play once."
   ]
  },
  {
   "cell_type": "code",
   "execution_count": null,
   "metadata": {
    "id": "DRxprfKiOoKZ"
   },
   "outputs": [],
   "source": [
    "# Your code/ answer goes here."
   ]
  },
  {
   "cell_type": "markdown",
   "metadata": {
    "id": "si_7V8BNOoKe"
   },
   "source": [
    "## Challenge task [up to +10 bonus point will be awarded separately]\n",
    "\n",
    "Find another student and let your best agent play against the other student's best player. We will set up a class tournament on Canvas. This tournament will continue after the submission deadline."
   ]
  },
  {
   "cell_type": "markdown",
   "metadata": {
    "id": "sVieBdxTOoKg"
   },
   "source": [
    "## Graduate student advanced task: Pure Monte Carlo Search and Best First Move [10 point]\n",
    "\n",
    "__Undergraduate students:__ This is a bonus task you can attempt if you like [+5 bonus point].\n",
    "\n",
    "### Pure Monte Carlo Search\n",
    "\n",
    "Implement Pure Monte Carlo Search and investigate how this search performs on the test boards that you have used above."
   ]
  },
  {
   "cell_type": "code",
   "execution_count": null,
   "metadata": {
    "id": "g_S0OYeOOoKg"
   },
   "outputs": [],
   "source": [
    "# Your code/ answer goes here."
   ]
  },
  {
   "cell_type": "markdown",
   "metadata": {
    "id": "tejkxG01OoKg"
   },
   "source": [
    "### Best First Move\n",
    "\n",
    "Use Oure Monte Carlo Search to determine what the best first move is? Describe under what assumptions this is the \"best\" first move.  "
   ]
  },
  {
   "cell_type": "code",
   "execution_count": null,
   "metadata": {
    "id": "8Zjy0ZP2OoKg"
   },
   "outputs": [],
   "source": [
    "# Your code/ answer goes here."
   ]
  }
 ],
 "metadata": {
  "kernelspec": {
   "display_name": "Python 3 (ipykernel)",
   "language": "python",
   "name": "python3"
  },
  "language_info": {
   "codemirror_mode": {
    "name": "ipython",
    "version": 3
   },
   "file_extension": ".py",
   "mimetype": "text/x-python",
   "name": "python",
   "nbconvert_exporter": "python",
   "pygments_lexer": "ipython3",
   "version": "3.10.12"
  },
  "colab": {
   "provenance": []
  }
 },
 "nbformat": 4,
 "nbformat_minor": 0
}
