{
 "cells": [
  {
   "cell_type": "code",
   "execution_count": null,
   "outputs": [],
   "source": [],
   "metadata": {
    "collapsed": false
   }
  },
  {
   "cell_type": "markdown",
   "source": [
    "# Adversarial Search: Playing Connect 4\n",
    "\n",
    "Student Name: Ryan Sweeney\n",
    "\n",
    "I have used the following AI tools: Torch\n",
    "\n",
    "I understand that my submission needs to be my own work: RS\n",
    "\n",
    "## Instructions\n",
    "\n",
    "Total Points: Undegraduates 100, graduate students 110\n",
    "\n",
    "Complete this notebook and submit it. The notebook needs to be a complete project report with your: implementation, documentation including a short discussion of how your implementation works and your design choices, and experimental results (e.g., tables and charts with simulation: results) with a: short discussion of what they mean. Use the provided notebook cells and insert additional code and markdown cells as needed.\n",
    "\n",
    "## Introduction\n",
    "\n",
    "You will implement different versions of agents that play Connect 4:\n",
    "\n",
    "> \"Connect 4 is a two-player connection board game, in which the players choose a color and then take turns dropping colored discs into a seven-column, six-row vertically suspended grid. The pieces fall straight down, occupying the lowest available space within the column. The objective of the game is to be the first to form a horizontal, vertical, or diagonal line of four of one's own discs.\" (see [Connect Four on Wikipedia](https://en.wikipedia.org/wiki/Connect_Four))\n",
    "\n",
    "Note that [Connect-4 has been solved](https://en.wikipedia.org/wiki/Connect_Four#Mathematical_solution)\n",
    "in 1988. A connect-4 solver with a discussion of how to solve different parts of the problem can be found here: https://connect4.gamesolver.org/en/"
   ],
   "metadata": {
    "collapsed": false
   }
  },
  {
   "cell_type": "code",
   "execution_count": null,
   "outputs": [
    {
     "ename": "SyntaxError",
     "evalue": "invalid syntax (2086168889.py, line 3)",
     "output_type": "error",
     "traceback": [
      "\u001B[1;36m  Cell \u001B[1;32mIn[1], line 3\u001B[1;36m\u001B[0m\n\u001B[1;33m    Student Name: Ryan Sweeney\u001B[0m\n\u001B[1;37m            ^\u001B[0m\n\u001B[1;31mSyntaxError\u001B[0m\u001B[1;31m:\u001B[0m invalid syntax\n"
     ]
    }
   ],
   "source": [],
   "metadata": {
    "collapsed": false,
    "ExecuteTime": {
     "end_time": "2024-04-23T01:02:44.133017400Z",
     "start_time": "2024-04-23T01:02:44.118007900Z"
    }
   }
  },
  {
   "cell_type": "markdown",
   "metadata": {
    "id": "eH0WMZASeWDE"
   },
   "source": [
    "## Task 1: Defining the Search Problem [10 point]\n",
    "\n",
    "Define the components of the search problem:\n",
    "\n",
    "* Initial state\n",
    "* Actions\n",
    "* Transition model (result function)\n",
    "* Goal state (terminal state and utility)"
   ]
  },
  {
   "cell_type": "code",
   "execution_count": null,
   "metadata": {
    "id": "evYY4zVjeWDF"
   },
   "outputs": [],
   "source": [
    "# Your code/answer goes here."
   ]
  },
  {
   "cell_type": "markdown",
   "source": [
    "# initial State\n",
    "The initial state is an empty board. The board is a 6x7 grid with all cells empty.\n",
    "\n",
    "# Actions\n",
    "For each player the set of actions is the player can drop a colored disc into one of the columns in the grid. The action is only valid if and only if the column is not full.\n",
    "\n",
    "# Transition Model\n",
    "Given a state and an action the transisition model would specify the result of that action in that state. It would update the game state by adding a colored disc of the players color in the lowest available row\n",
    "\n",
    "# Goal State\n",
    "The game reaches a terminal state in a couple case. If either colored chips align to form 4 in a row in any direction vertical horizontal or diagonal. The game is a draw if the board is full and no player has won. The utility function would return 1 if the player wins, -1 if the player loses and 0 if the game is a draw."
   ],
   "metadata": {
    "collapsed": false
   }
  },
  {
   "cell_type": "markdown",
   "metadata": {
    "id": "367s79OMeWDG"
   },
   "source": [
    "How big is the state space? Give an estimate and explain it."
   ]
  },
  {
   "cell_type": "code",
   "execution_count": null,
   "metadata": {
    "id": "635_C61KeWDG"
   },
   "outputs": [],
   "source": [
    "# Your code/ answer goes here.\n"
   ]
  },
  {
   "cell_type": "markdown",
   "source": [
    "# State Space\n",
    "\n",
    "The state space of the game is the number of possible board configurations. The game board is a 6x7 grid with each cell having 3 possible states. Empty, red and yellow. The total number of possible states is 3^42 which is 7.3 x 10^19. This is the total number of possible board configurations. The number of possible games is much smaller than this as the game can end in a draw or a win. The number of possible games is estimated to be around 4.5 x 10^12. This is calculated by the number of possible games that can be played before the board is full. The number of possible games is calculated by the number of possible moves in each turn. The number of possible moves in each turn is the number of columns in the grid. The number of possible moves in each turn is 7. The number of possible games is calculated by 7^42 which is 4.5 x 10^12. This is the number of possible games that can be played before the board is full"
   ],
   "metadata": {
    "collapsed": false
   }
  },
  {
   "cell_type": "markdown",
   "metadata": {
    "id": "ca5QeByBeWDG"
   },
   "source": [
    "How big is the game tree that minimax search will go through? Give an estimate and explain it."
   ]
  },
  {
   "cell_type": "code",
   "execution_count": null,
   "metadata": {
    "id": "1aoYcaFeeWDH"
   },
   "outputs": [],
   "source": [
    "# Your code/ answer goes here."
   ]
  },
  {
   "cell_type": "markdown",
   "source": [
    "# Game Tree\n",
    "\n",
    "The game tree is the number of possible states that can be reached from the initial state. The game tree has a branching factor of the number of possible moves each turn which is up to 7 depending on the state of the board. The depth of the game tree is the number of moves that can be played before the game reaches a terminal state."
   ],
   "metadata": {
    "collapsed": false
   }
  },
  {
   "cell_type": "markdown",
   "metadata": {
    "id": "dS8EJliOeWDH"
   },
   "source": [
    "## Task 2: Game Environment and Random Agent [25 point]\n",
    "\n",
    "Use a numpy character array as the board."
   ]
  },
  {
   "cell_type": "code",
   "execution_count": 2,
   "metadata": {
    "id": "EsyL60bceWDH",
    "outputId": "865a9498-88a8-45aa-88ac-a607e01870ba",
    "ExecuteTime": {
     "end_time": "2024-04-23T01:09:45.059441100Z",
     "start_time": "2024-04-23T01:09:44.955917200Z"
    }
   },
   "outputs": [
    {
     "name": "stdout",
     "output_type": "stream",
     "text": [
      "[[0 0 0 0 0 0 0]\n",
      " [0 0 0 0 0 0 0]\n",
      " [0 0 0 0 0 0 0]\n",
      " [0 0 0 0 0 0 0]\n",
      " [0 0 0 0 0 0 0]\n",
      " [0 0 0 0 0 0 0]]\n"
     ]
    }
   ],
   "source": [
    "import numpy as np\n",
    "\n",
    "def empty_board(shape=(6, 7)):\n",
    "    return np.full(shape=shape, fill_value=0)\n",
    "\n",
    "print(empty_board())"
   ]
  },
  {
   "cell_type": "markdown",
   "metadata": {
    "id": "KBkUxIc2eWDI"
   },
   "source": [
    "The standard board is $6 \\times 7$ but you can use smaller boards to test your code. Instead of colors (red and yellow), I use 1 and -1 to represent the players. Make sure that your agent functions all have the from: `agent_type(board, player = 1)`, where board is the current board position (in the format above) and player is the player whose next move it is and who the agent should play (as 1 and -1)."
   ]
  },
  {
   "cell_type": "code",
   "execution_count": 3,
   "metadata": {
    "tags": [],
    "id": "shVZrRmNeWDI",
    "outputId": "9fac5178-2406-4e33-954b-6c9b137a04dd",
    "ExecuteTime": {
     "end_time": "2024-04-23T01:09:48.453765300Z",
     "start_time": "2024-04-23T01:09:47.811159200Z"
    }
   },
   "outputs": [
    {
     "data": {
      "text/plain": "<Figure size 640x480 with 1 Axes>",
      "image/png": "[encoded data removed]"
     },
     "metadata": {},
     "output_type": "display_data"
    }
   ],
   "source": [
    "# Visualization code by Randolph Rankin\n",
    "\n",
    "import matplotlib.pyplot as plt\n",
    "\n",
    "def visualize(board):\n",
    "    plt.axes()\n",
    "    rectangle=plt.Rectangle((-0.5,len(board)*-1+0.5),len(board[0]),len(board),fc='blue')\n",
    "    circles=[]\n",
    "    for i,row in enumerate(board):\n",
    "        for j,val in enumerate(row):\n",
    "            color='white' if val==0 else 'red' if val==1 else 'yellow'\n",
    "            circles.append(plt.Circle((j,i*-1),0.4,fc=color))\n",
    "\n",
    "    plt.gca().add_patch(rectangle)\n",
    "    for circle in circles:\n",
    "        plt.gca().add_patch(circle)\n",
    "\n",
    "    plt.axis('scaled')\n",
    "    plt.show()\n",
    "\n",
    "board = [[0, 0, 0, 0, 0, 0, 0],\n",
    "         [0, 0, 0, 0, 0, 0, 0],\n",
    "         [0, 0, 0, 0, 0, 0, 0],\n",
    "         [0, 0, 0, 1, 0, 0, 0],\n",
    "         [0, 0, 0, 1, 0, 0, 0],\n",
    "         [0,-1,-1, 1,-1, 0, 0]]\n",
    "visualize(board)"
   ]
  },
  {
   "cell_type": "markdown",
   "metadata": {
    "tags": [],
    "id": "XNnKfpvueWDI"
   },
   "source": [
    "Implement helper functions for:\n",
    "\n",
    "* A check for available actions in each state `actions(s)`.\n",
    "* The transition model `result(s, a)`.\n",
    "* Check for terminal states `terminal(s)`.\n",
    "* The utility function `utility(s)`.\n",
    "\n",
    "Make sure that all these functions work with boards of different sizes (number of columns and rows)."
   ]
  },
  {
   "cell_type": "code",
   "execution_count": 54,
   "metadata": {
    "id": "9eZ0cwPpeWDI",
    "ExecuteTime": {
     "end_time": "2024-04-23T02:10:57.012398300Z",
     "start_time": "2024-04-23T02:10:57.004395300Z"
    }
   },
   "outputs": [],
   "source": [
    "# Your code/ answer goes here.\n",
    "\n",
    "import numpy as np\n",
    "\n",
    "def empty_board(shape=(6, 7)):\n",
    "    return np.full(shape=shape, fill_value=0)\n",
    "\n",
    "def actions(board):\n",
    "    available_actions = []\n",
    "    for col in range(board.shape[1]):\n",
    "        if board[0][col] == 0:  # If the top row of the column is empty\n",
    "            available_actions.append(col)\n",
    "    return available_actions\n",
    "\n",
    "def result(board, action, player):\n",
    "    new_board = board.copy()\n",
    "    for row in range(new_board.shape[0]-1, -1, -1):\n",
    "        if new_board[row][action] == 0:\n",
    "            new_board[row][action] = player\n",
    "            break\n",
    "    return new_board\n",
    "\n",
    "def terminal(board):\n",
    "    # Check for a win\n",
    "    for player in [-1, 1]:\n",
    "        # Check horizontal\n",
    "        for row in range(board.shape[0]):\n",
    "            for col in range(board.shape[1] - 3):  # make sure the board's width is considered\n",
    "                if all(board[row][col+i] == 1 for i in range(4)):\n",
    "                    return True, 1\n",
    "                if all(board[row][col+i] == -1 for i in range(4)):\n",
    "                    return True, -1\n",
    "\n",
    "        # Check vertical\n",
    "        for col in range(board.shape[1]):\n",
    "            for row in range(board.shape[0] - 3):\n",
    "                if all(board[row+i][col] == player for i in range(4)):\n",
    "                    return True, player\n",
    "\n",
    "        # Check diagonals\n",
    "        for row in range(board.shape[0] - 3):\n",
    "            for col in range(board.shape[1] - 3):\n",
    "                if all(board[row+i][col+i] == player for i in range(4)):\n",
    "                    return True, player\n",
    "                if all(board[row+i][col+3-i] == player for i in range(4)):\n",
    "                    return True, player\n",
    "\n",
    "    # Check for a draw\n",
    "    if np.all(board != 0):\n",
    "        return True, 0\n",
    "\n",
    "    return False, None\n",
    "\n",
    "def utility(board):\n",
    "    terminal_state, winner = terminal(board)\n",
    "    if terminal_state:\n",
    "        if winner == 1:\n",
    "            return 1000  # Large positive value for a win\n",
    "        elif winner == -1:\n",
    "            return -1000  # Large negative value for a loss\n",
    "        else:\n",
    "            return 0  # Neutral value for a draw\n",
    "    else:\n",
    "        return 0\n"
   ]
  },
  {
   "cell_type": "markdown",
   "metadata": {
    "id": "la4tOGWDeWDJ"
   },
   "source": [
    "Implement an agent that plays randomly. Make sure the agent function receives as the percept the board and returns a valid action. Use an agent function definition with the following signature (arguments):\n",
    "\n",
    "`def random_player(board, player = 1): ...`\n",
    "\n",
    "The argument `player` is used for agents that do not store what color they are playing. The value passed on by the environment should be 1 ot -1 for player red and yellow, respectively.  See [Experiments section for tic-tac-toe](https://nbviewer.org/github/mhahsler/CS7320-AI/blob/master/Games/tictactoe_and_or_tree_search.ipynb#Experiments) for an example."
   ]
  },
  {
   "cell_type": "code",
   "execution_count": 11,
   "metadata": {
    "id": "R8EvDP1-eWDJ",
    "ExecuteTime": {
     "end_time": "2024-04-23T01:16:52.804407200Z",
     "start_time": "2024-04-23T01:16:52.713668700Z"
    }
   },
   "outputs": [],
   "source": [
    "# Your code/ answer goes here.\n",
    "\n",
    "import numpy as np\n",
    "\n",
    "def random_player(board, player=1):\n",
    "    available_actions = actions(board)\n",
    "    return np.random.choice(available_actions)\n"
   ]
  },
  {
   "cell_type": "markdown",
   "metadata": {
    "id": "ShIOla2JeWDJ"
   },
   "source": [
    "Let two random agents play against each other 1000 times. Look at the [Experiments section for tic-tac-toe](https://nbviewer.org/github/mhahsler/CS7320-AI/blob/master/Games/tictactoe_and_or_tree_search.ipynb#Experiments) to see how the environment uses the agent functions to play against each other.\n",
    "\n",
    "How often does each player win? Is the result expected?"
   ]
  },
  {
   "cell_type": "code",
   "execution_count": 12,
   "metadata": {
    "tags": [],
    "id": "SymplvEoeWDJ",
    "ExecuteTime": {
     "end_time": "2024-04-23T01:16:56.692533100Z",
     "start_time": "2024-04-23T01:16:54.030658100Z"
    }
   },
   "outputs": [
    {
     "name": "stdout",
     "output_type": "stream",
     "text": [
      "Player 1 wins: 546\n",
      "Player 2 wins: 451\n",
      "Draws: 3\n"
     ]
    }
   ],
   "source": [
    "# Your code/ answer goes here.\n",
    "\n",
    "# Define the environment to play Connect 4\n",
    "def connect4_env(player1, player2, num_games=1000):\n",
    "    player1_wins = 0\n",
    "    player2_wins = 0\n",
    "    draws = 0\n",
    "\n",
    "    for _ in range(num_games):\n",
    "        board = empty_board()\n",
    "        current_player = 1\n",
    "\n",
    "        while True:\n",
    "            # Player 1's turn\n",
    "            if current_player == 1:\n",
    "                action = player1(board, player=1)\n",
    "                board = result(board, action, player=1)\n",
    "                terminal_state, winner = terminal(board)\n",
    "                if terminal_state:\n",
    "                    if winner == 1:\n",
    "                        player1_wins += 1\n",
    "                    elif winner == -1:\n",
    "                        player2_wins += 1\n",
    "                    else:\n",
    "                        draws += 1\n",
    "                    break\n",
    "\n",
    "            # Player 2's turn\n",
    "            else:\n",
    "                action = player2(board, player=-1)\n",
    "                board = result(board, action, player=-1)\n",
    "                terminal_state, winner = terminal(board)\n",
    "                if terminal_state:\n",
    "                    if winner == 1:\n",
    "                        player1_wins += 1\n",
    "                    elif winner == -1:\n",
    "                        player2_wins += 1\n",
    "                    else:\n",
    "                        draws += 1\n",
    "                    break\n",
    "\n",
    "            # Switch players\n",
    "            current_player *= -1\n",
    "\n",
    "    return player1_wins, player2_wins, draws\n",
    "\n",
    "# Let two random agents play against each other 1000 times\n",
    "player1_wins, player2_wins, draws = connect4_env(random_player, random_player, num_games=1000)\n",
    "\n",
    "print(\"Player 1 wins:\", player1_wins)\n",
    "print(\"Player 2 wins:\", player2_wins)\n",
    "print(\"Draws:\", draws)\n"
   ]
  },
  {
   "cell_type": "markdown",
   "source": [
    "# results from random agent\n",
    "\n",
    "Player 1 wins: 551\n",
    "Player 2 wins: 443\n",
    "Draws: 6\n",
    "\n",
    "This result was slightly unexpected at first because I expected way more draws, but then when I thought about it it is a lot harder to arange the full board with no 4 in a rows, than it is to have 1 4 in a row somewhere so it is expected to get about even wins for each player. with a slight edge to player 1, and a very small amount of draws."
   ],
   "metadata": {
    "collapsed": false
   }
  },
  {
   "cell_type": "markdown",
   "metadata": {
    "id": "8ykK2uodeWDJ"
   },
   "source": [
    "## Task 3: Minimax Search with Alpha-Beta Pruning\n",
    "\n",
    "### Implement the Search [20 points]\n",
    "\n",
    "Implement minimax search starting from a given board for specifying the player.\n",
    "You can use code from the [tic-tac-toe example](https://nbviewer.org/github/mhahsler/CS7320-AI/blob/master/Games/tictactoe_alpha_beta_tree_search.ipynb).\n",
    "\n",
    "__Important Notes:__\n",
    "* Make sure that all your agent functions have a signature consistent with the random agent above and that it [uses a class to store state information.](https://nbviewer.org/github/mhahsler/CS7320-AI/blob/master/HOWTOs/store_agent_state_information.ipynb)\n",
    "This is essential to be able play against agents from other students later.\n",
    "* The search space for a $6 \\times 7$ board is large. You can experiment with smaller boards (the smallest is $4 \\times 4$) and/or changing the winning rule to connect 3 instead of 4."
   ]
  },
  {
   "cell_type": "code",
   "execution_count": 31,
   "metadata": {
    "id": "ap5i7ihleWDJ",
    "ExecuteTime": {
     "end_time": "2024-04-23T01:38:38.163655200Z",
     "start_time": "2024-04-23T01:38:38.151654200Z"
    }
   },
   "outputs": [],
   "source": [
    "# Your code/ answer goes here.\n",
    "\n",
    "class MinimaxABAgent:\n",
    "    def __init__(self, depth=4):\n",
    "        self.depth = depth\n",
    "\n",
    "    def minimax(self, board, depth, alpha, beta, maximizingPlayer):\n",
    "        terminal_state, winner = terminal(board)\n",
    "        if depth == 0 or terminal_state:\n",
    "            return utility(board), None\n",
    "\n",
    "        if maximizingPlayer:\n",
    "            max_eval = -float('inf')\n",
    "            best_action = None\n",
    "            for action in actions(board):\n",
    "                result_board = result(board, action, 1)\n",
    "                eval, _ = self.minimax(result_board, depth - 1, alpha, beta, False)\n",
    "                if eval > max_eval:\n",
    "                    max_eval = eval\n",
    "                    best_action = action\n",
    "                alpha = max(alpha, eval)\n",
    "                if beta <= alpha:\n",
    "                    break\n",
    "            return max_eval, best_action\n",
    "        else:\n",
    "            min_eval = float('inf')\n",
    "            best_action = None\n",
    "            for action in actions(board):\n",
    "                result_board = result(board, action, -1)\n",
    "                eval, _ = self.minimax(result_board, depth - 1, alpha, beta, True)\n",
    "                if eval < min_eval:\n",
    "                    min_eval = eval\n",
    "                    best_action = action\n",
    "                beta = min(beta, eval)\n",
    "                if beta <= alpha:\n",
    "                    break\n",
    "            return min_eval, best_action\n",
    "\n",
    "    def choose_action(self, board, player=1):\n",
    "        _, action = self.minimax(board, self.depth, -float('inf'), float('inf'), player == 1)\n",
    "        return action\n",
    "\n"
   ]
  },
  {
   "cell_type": "markdown",
   "metadata": {
    "id": "1OGtNExjeWDJ"
   },
   "source": [
    "Experiment with some manually created boards (at least 5) to check if the agent spots winning opportunities."
   ]
  },
  {
   "cell_type": "code",
   "execution_count": 59,
   "metadata": {
    "id": "aMk-XGfIeWDJ",
    "ExecuteTime": {
     "end_time": "2024-04-23T02:18:20.563056300Z",
     "start_time": "2024-04-23T02:18:20.522050800Z"
    }
   },
   "outputs": [
    {
     "name": "stdout",
     "output_type": "stream",
     "text": [
      "Immediate Horizontal Win: Best action for Player 1 is column 3. Time taken: 0.0039958953857421875 seconds\n",
      "Immediate Vertical Win: Best action for Player 1 is column 0. Time taken: 0.005999326705932617 seconds\n",
      "Immediate Diagonal Win: Best action for Player 1 is column 3. Time taken: 0.003000020980834961 seconds\n",
      "Block Opponent's Win: Best action for Player 1 is column 1. Time taken: 0.003000497817993164 seconds\n",
      "Complex Board with Winning Opportunity: Best action for Player 1 is column 2. Time taken: 0.0029997825622558594 seconds\n"
     ]
    }
   ],
   "source": [
    "# Your code/ answer goes here.\n",
    "\n",
    "import numpy as np\n",
    "\n",
    "# Initialize the agent\n",
    "agent = MinimaxABAgent()\n",
    "\n",
    "# Define test boards\n",
    "boards = {\n",
    "    \"Immediate Horizontal Win\": np.array([\n",
    "        [0, 0, 0, 0],\n",
    "        [0, 0, 0, 0],\n",
    "        [0, 0, 0, 0],\n",
    "        [1, 1, 1, 0]\n",
    "    ]),\n",
    "    \"Immediate Vertical Win\": np.array([\n",
    "        [0, 0, 0, 0],\n",
    "        [1, 0, 0, 0],\n",
    "        [1, 0, 0, 0],\n",
    "        [1, -1, -1, -1]\n",
    "    ]),\n",
    "    \"Immediate Diagonal Win\": np.array([\n",
    "        [0, 0, 0, 0],\n",
    "        [0, 0, 1, -1],\n",
    "        [0, 1, -1, 1],\n",
    "        [1, -1, 1, -1]\n",
    "    ]),\n",
    "    \"Block Opponent's Win\": np.array([\n",
    "        [0, 0, 0, 0],\n",
    "        [0, -1, 0, 0],\n",
    "        [1, -1, 0, 0],\n",
    "        [1, -1, 1, 0]\n",
    "    ]),\n",
    "    \"Complex Board with Winning Opportunity\": np.array([\n",
    "        [0, 0, 0, 0],\n",
    "        [0, 0, 0, 0],\n",
    "        [0, 0, -1, 1],\n",
    "        [0, -1, 1, -1]\n",
    "    ])\n",
    "}\n",
    "\n",
    "import time\n",
    "\n",
    "# Test the agent on each board\n",
    "for description, board in boards.items():\n",
    "    start_time = time.time()  # Record the start time\n",
    "    action = agent.choose_action(board, player=1)\n",
    "    end_time = time.time()  # Record the end time\n",
    "    elapsed_time = end_time - start_time  # Calculate the elapsed time\n",
    "    print(f\"{description}: Best action for Player 1 is column {action}. Time taken: {elapsed_time} seconds\")\n",
    "\n"
   ]
  },
  {
   "cell_type": "markdown",
   "metadata": {
    "id": "C3D0bwWpeWDJ"
   },
   "source": [
    "How long does it take to make a move? Start with a smaller board with 4 columns and make the board larger by adding columns."
   ]
  },
  {
   "cell_type": "code",
   "execution_count": null,
   "metadata": {
    "id": "idhLisoQeWDK"
   },
   "outputs": [],
   "source": [
    "# Your code/ answer goes here.\n",
    "\n",
    "#Immediate Horizontal Win: Best action for Player 1 is column 3. Time taken: 0.0059969425201416016 seconds\n",
    "#Immediate Vertical Win: Best action for Player 1 is column 0. Time taken: 0.0020017623901367188 seconds\n",
    "#Immediate Diagonal Win: Best action for Player 1 is column 3. Time taken: 0.004998207092285156 seconds\n",
    "#Block Opponent's Win: Best action for Player 1 is column 1. Time taken: 0.002999544143676758 seconds\n",
    "#Complex Board with Winning Opportunity: Best action for Player 1 is column 0. Time taken: 0.0030031204223632812 seconds"
   ]
  },
  {
   "cell_type": "markdown",
   "source": [
    "Even with just a small board the agent takes a long time to make a move if there is not a max depth set. This is because the search space is so large. The agent has to search through all possible moves to find the best one. This is why the agent takes so long to make a move. The time it takes to make a move increases exponentially as the size of the board increases."
   ],
   "metadata": {
    "collapsed": false
   }
  },
  {
   "cell_type": "markdown",
   "metadata": {
    "id": "HQwErlrgeWDK"
   },
   "source": [
    "### Move ordering [5 points]\n",
    "\n",
    "Starting the search with better moves will increase the efficiency of alpha-beta pruning. Describe and implement a simple move ordering strategy. Make a table that shows how the ordering strategies influence the time it takes to make a move?"
   ]
  },
  {
   "cell_type": "code",
   "execution_count": 34,
   "metadata": {
    "id": "0nqMLOTReWDK",
    "ExecuteTime": {
     "end_time": "2024-04-23T01:41:12.454596100Z",
     "start_time": "2024-04-23T01:41:12.413591Z"
    }
   },
   "outputs": [
    {
     "name": "stdout",
     "output_type": "stream",
     "text": [
      "Immediate Horizontal Win: Best action for Player 1 is column 3. Time taken: 0.0039980411529541016 seconds\n",
      "Immediate Vertical Win: Best action for Player 1 is column 0. Time taken: 0.0060007572174072266 seconds\n",
      "Immediate Diagonal Win: Best action for Player 1 is column 3. Time taken: 0.002003192901611328 seconds\n",
      "Block Opponent's Win: Best action for Player 1 is column 1. Time taken: 0.003999233245849609 seconds\n",
      "Complex Board with Winning Opportunity: Best action for Player 1 is column 2. Time taken: 0.0030012130737304688 seconds\n"
     ]
    }
   ],
   "source": [
    "# Your code/ answer goes here.\n",
    "def actions(board):\n",
    "    columns = range(board.shape[1])\n",
    "    # Order columns by closeness to the center\n",
    "    sorted_columns = sorted(columns, key=lambda x: abs(x - board.shape[1] // 2))\n",
    "    available_actions = []\n",
    "    for col in sorted_columns:\n",
    "        if board[0][col] == 0:  # If the top row of the column is empty\n",
    "            available_actions.append(col)\n",
    "    return available_actions\n",
    "\n",
    "\n",
    "class MinimaxABAgent:\n",
    "    def __init__(self, depth=4):\n",
    "        self.depth = depth\n",
    "\n",
    "    def actions(self, board):\n",
    "        columns = range(board.shape[1])\n",
    "        # Order columns by closeness to the center\n",
    "        sorted_columns = sorted(columns, key=lambda x: abs(x - board.shape[1] // 2))\n",
    "        available_actions = []\n",
    "        for col in sorted_columns:\n",
    "            if board[0][col] == 0:  # If the top row of the column is empty\n",
    "                available_actions.append(col)\n",
    "        return available_actions\n",
    "\n",
    "    def minimax(self, board, depth, alpha, beta, maximizingPlayer):\n",
    "        terminal_state, winner = terminal(board)\n",
    "        if depth == 0 or terminal_state:\n",
    "            return utility(board), None\n",
    "\n",
    "        if maximizingPlayer:\n",
    "            max_eval = -float('inf')\n",
    "            best_action = None\n",
    "            for action in self.actions(board):\n",
    "                result_board = result(board, action, 1)\n",
    "                eval, _ = self.minimax(result_board, depth - 1, alpha, beta, False)\n",
    "                if eval > max_eval:\n",
    "                    max_eval = eval\n",
    "                    best_action = action\n",
    "                alpha = max(alpha, eval)\n",
    "                if beta <= alpha:\n",
    "                    break\n",
    "            return max_eval, best_action\n",
    "        else:\n",
    "            min_eval = float('inf')\n",
    "            best_action = None\n",
    "            for action in self.actions(board):\n",
    "                result_board = result(board, action, -1)\n",
    "                eval, _ = self.minimax(result_board, depth - 1, alpha, beta, True)\n",
    "                if eval < min_eval:\n",
    "                    min_eval = eval\n",
    "                    best_action = action\n",
    "                beta = min(beta, eval)\n",
    "                if beta <= alpha:\n",
    "                    break\n",
    "            return min_eval, best_action\n",
    "\n",
    "    def choose_action(self, board, player=1):\n",
    "        _, action = self.minimax(board, self.depth, -float('inf'), float('inf'), player == 1)\n",
    "        return action\n",
    "\n",
    "# Test the agent on each board\n",
    "for description, board in boards.items():\n",
    "    start_time = time.time()  # Record the start time\n",
    "    action = agent.choose_action(board, player=1)\n",
    "    end_time = time.time()  # Record the end time\n",
    "    elapsed_time = end_time - start_time  # Calculate the elapsed time\n",
    "    print(f\"{description}: Best action for Player 1 is column {action}. Time taken: {elapsed_time} seconds\")"
   ]
  },
  {
   "cell_type": "markdown",
   "metadata": {
    "id": "eSfHB8jceWDK"
   },
   "source": [
    "### The first few moves [5 points]\n",
    "\n",
    "Start with an empty board. This is the worst case scenario for minimax search since it needs solve all possible games that can be played (minus some pruning) before making the decision. What can you do?"
   ]
  },
  {
   "cell_type": "code",
   "execution_count": null,
   "metadata": {
    "id": "dx5tk5WreWDK"
   },
   "outputs": [],
   "source": [
    "# Your code/ answer goes here."
   ]
  },
  {
   "cell_type": "markdown",
   "source": [
    "We can implement a simple symmetry opening strategy, because this should play decently and allow us to get past the beginning of the game faster."
   ],
   "metadata": {
    "collapsed": false
   }
  },
  {
   "cell_type": "code",
   "execution_count": 61,
   "outputs": [
    {
     "name": "stdout",
     "output_type": "stream",
     "text": [
      "Immediate Horizontal Win: Best action for Player 1 is column 3. Time taken: 0.0059986114501953125 seconds\n",
      "Immediate Vertical Win: Best action for Player 1 is column 0. Time taken: 0.002001047134399414 seconds\n",
      "Immediate Diagonal Win: Best action for Player 1 is column 3. Time taken: 0.004998922348022461 seconds\n",
      "Block Opponent's Win: Best action for Player 1 is column 1. Time taken: 0.0060007572174072266 seconds\n",
      "Complex Board with Winning Opportunity: Best action for Player 1 is column 3. Time taken: 0.0039997100830078125 seconds\n"
     ]
    }
   ],
   "source": [
    "class MinimaxOpeningAgent:\n",
    "    def __init__(self, depth=4):\n",
    "        self.depth = depth\n",
    "\n",
    "    def symmetric_move(self, last_move, board_width):\n",
    "        return board_width - last_move - 1\n",
    "\n",
    "    def evaluate_asymmetry(self, board):\n",
    "        mid = board.shape[1] // 2\n",
    "        left_weight = sum(board[:, :mid].flat)\n",
    "        right_weight = sum(board[:, mid+1:].flat)\n",
    "        return left_weight, right_weight\n",
    "\n",
    "    def balance_moves(self, left_weight, right_weight, sorted_columns):\n",
    "        if left_weight > right_weight:\n",
    "            return sorted(sorted_columns, key=lambda x: x)\n",
    "        else:\n",
    "            return sorted(sorted_columns, key=lambda x: -x)\n",
    "\n",
    "    def actions(self, board, last_move=None):\n",
    "        if np.all(board == 0):\n",
    "            return [board.shape[1] // 2]  # Center start\n",
    "\n",
    "        if last_move is not None:\n",
    "            sym_move = self.symmetric_move(last_move, board.shape[1])\n",
    "            if board[0][sym_move] == 0:\n",
    "                return [sym_move]\n",
    "\n",
    "        columns = range(board.shape[1])\n",
    "        sorted_columns = sorted(columns, key=lambda x: abs(x - board.shape[1] // 2))\n",
    "        left_weight, right_weight = self.evaluate_asymmetry(board)\n",
    "        balanced_columns = self.balance_moves(left_weight, right_weight, sorted_columns)\n",
    "\n",
    "        available_actions = []\n",
    "        for col in balanced_columns:\n",
    "            if board[0][col] == 0:\n",
    "                available_actions.append(col)\n",
    "        return available_actions\n",
    "\n",
    "    def minimax(self, board, depth, alpha, beta, maximizingPlayer):\n",
    "        terminal_state, winner = terminal(board)\n",
    "        if depth == 0 or terminal_state:\n",
    "            return utility(board), None\n",
    "\n",
    "        if maximizingPlayer:\n",
    "            max_eval = -float('inf')\n",
    "            best_action = None\n",
    "            for action in self.actions(board):\n",
    "                result_board = result(board, action, 1)\n",
    "                eval, _ = self.minimax(result_board, depth - 1, alpha, beta, False)\n",
    "                if eval > max_eval:\n",
    "                    max_eval = eval\n",
    "                    best_action = action\n",
    "                alpha = max(alpha, eval)\n",
    "                if beta <= alpha:\n",
    "                    break\n",
    "            return max_eval, best_action\n",
    "        else:\n",
    "            min_eval = float('inf')\n",
    "            best_action = None\n",
    "            for action in self.actions(board):\n",
    "                result_board = result(board, action, -1)\n",
    "                eval, _ = self.minimax(result_board, depth - 1, alpha, beta, True)\n",
    "                if eval < min_eval:\n",
    "                    min_eval = eval\n",
    "                    best_action = action\n",
    "                beta = min(beta, eval)\n",
    "                if beta <= alpha:\n",
    "                    break\n",
    "            return min_eval, best_action\n",
    "\n",
    "    def choose_action(self, board, player=1):\n",
    "        _, action = self.minimax(board, self.depth, -float('inf'), float('inf'), player == 1)\n",
    "        return action\n",
    "\n",
    "# Test the agent on each board\n",
    "for description, board in boards.items():\n",
    "    start_time = time.time()  # Record the start time\n",
    "    action = agent.choose_action(board, player=1)\n",
    "    end_time = time.time()  # Record the end time\n",
    "    elapsed_time = end_time - start_time  # Calculate the elapsed time\n",
    "    print(f\"{description}: Best action for Player 1 is column {action}. Time taken: {elapsed_time} seconds\")"
   ],
   "metadata": {
    "collapsed": false,
    "ExecuteTime": {
     "end_time": "2024-04-23T02:18:37.019770900Z",
     "start_time": "2024-04-23T02:18:37.012767900Z"
    }
   }
  },
  {
   "cell_type": "markdown",
   "metadata": {
    "id": "JZ1d8oXOeWDK"
   },
   "source": [
    "### Playtime [5 points]\n",
    "\n",
    "Let the Minimax Search agent play a random agent on a small board. Analyze wins, losses and draws."
   ]
  },
  {
   "cell_type": "code",
   "execution_count": 56,
   "metadata": {
    "id": "4Gox1yTUeWDK",
    "ExecuteTime": {
     "end_time": "2024-04-23T02:11:14.634919400Z",
     "start_time": "2024-04-23T02:11:13.011153700Z"
    }
   },
   "outputs": [
    {
     "name": "stdout",
     "output_type": "stream",
     "text": [
      "Minimax wins: 57, Losses: 1, Draws: 42\n"
     ]
    }
   ],
   "source": [
    "# Your code/ answer goes here.\n",
    "\n",
    "def play_game(player1, player2):\n",
    "    board = empty_board(shape=(4, 4))\n",
    "    current_player = 1\n",
    "\n",
    "    while True:\n",
    "        action = player1(board, player=current_player) if current_player == 1 else player2(board, player=current_player)\n",
    "        board = result(board, action, current_player)\n",
    "        terminal_state, winner = terminal(board)\n",
    "        if terminal_state:\n",
    "            return winner\n",
    "        current_player *= -1\n",
    "\n",
    "def simulate_games(num_games):\n",
    "    minimax_agent = MinimaxOpeningAgent()\n",
    "    wins = 0\n",
    "    losses = 0\n",
    "    draws = 0\n",
    "\n",
    "    for _ in range(num_games):\n",
    "        winner = play_game(minimax_agent.choose_action, random_player)\n",
    "        if winner == 1:\n",
    "            wins += 1\n",
    "        elif winner == -1:\n",
    "            losses += 1\n",
    "        else:\n",
    "            draws += 1\n",
    "\n",
    "    return wins, losses, draws\n",
    "\n",
    "# Example usage\n",
    "wins, losses, draws = simulate_games(100)\n",
    "print(f\"Minimax wins: {wins}, Losses: {losses}, Draws: {draws}\")\n"
   ]
  },
  {
   "cell_type": "markdown",
   "source": [
    "# Full size board\n",
    "Minimax wins: 100, Losses: 0, Draws: 0\n",
    "# 4x4 board\n",
    "Minimax wins: 54, Losses: 12, Draws: 34\n",
    "\n",
    "The minimax agent was pretty effective against the random agent"
   ],
   "metadata": {
    "collapsed": false
   }
  },
  {
   "cell_type": "markdown",
   "metadata": {
    "id": "rqHnlvKHeWDK"
   },
   "source": [
    "## Task 4: Heuristic Alpha-Beta Tree Search\n",
    "\n",
    "### Heuristic evaluation function [15 points]\n",
    "\n",
    "Define and implement a heuristic evaluation function."
   ]
  },
  {
   "cell_type": "code",
   "execution_count": 62,
   "metadata": {
    "id": "750SodQIeWDK",
    "ExecuteTime": {
     "end_time": "2024-04-23T02:18:53.413952700Z",
     "start_time": "2024-04-23T02:18:53.403953200Z"
    }
   },
   "outputs": [],
   "source": [
    "# Your code/ answer goes here.\n",
    "\n",
    "def heuristic(board, player):\n",
    "    \"\"\" Evaluate board state for the given player (1 or -1) \"\"\"\n",
    "    opponent = -player\n",
    "    scores = {player: 0, opponent: 0}\n",
    "\n",
    "    # Potential lines to consider: horizontal, vertical, and two diagonals\n",
    "    lines = []\n",
    "    for i in range(4):\n",
    "        lines.append(board[i, :])  # Horizontal\n",
    "        lines.append(board[:, i])  # Vertical\n",
    "\n",
    "    lines.append(np.array([board[i, i] for i in range(4)]))  # Main diagonal\n",
    "    lines.append(np.array([board[i, 3-i] for i in range(4)]))  # Anti-diagonal\n",
    "\n",
    "    # Scoring system\n",
    "    for line in lines:\n",
    "        if np.count_nonzero(line == player) == 3 and np.count_nonzero(line == 0) == 1:\n",
    "            scores[player] += 5  # Three in a line with an open slot\n",
    "        elif np.count_nonzero(line == player) == 2 and np.count_nonzero(line == 0) == 2:\n",
    "            scores[player] += 2  # Two in a line with two open slots\n",
    "\n",
    "        if np.count_nonzero(line == opponent) == 3 and np.count_nonzero(line == 0) == 1:\n",
    "            scores[opponent] += 5  # Three in a line against player\n",
    "        elif np.count_nonzero(line == opponent) == 2 and np.count_nonzero(line == 0) == 2:\n",
    "            scores[opponent] += 2  # Two in a line against player\n",
    "\n",
    "    # Center control (more valuable for potential connections)\n",
    "    center_column = board[:, 2]\n",
    "    center_count = np.count_nonzero(center_column == player)\n",
    "    scores[player] += center_count * 3\n",
    "\n",
    "    # Calculate net heuristic value\n",
    "    heuristic_value = scores[player] - scores[opponent]\n",
    "    return heuristic_value\n",
    "\n",
    "def utility(board):\n",
    "    terminal_state, winner = terminal(board)\n",
    "    if terminal_state:\n",
    "        if winner == 1:\n",
    "            return 1000  # Minimax wins\n",
    "        elif winner == -1:\n",
    "            return -1000  # Random wins\n",
    "        else:\n",
    "            return 0  # Draw\n",
    "    else:\n",
    "        # Use heuristic function for non-terminal states\n",
    "        return heuristic(board, 1)\n"
   ]
  },
  {
   "cell_type": "code",
   "execution_count": 43,
   "outputs": [
    {
     "name": "stdout",
     "output_type": "stream",
     "text": [
      "Immediate Horizontal Win: Best action for Player 1 is column 3. Time taken: 0.009999513626098633 seconds\n",
      "Immediate Vertical Win: Best action for Player 1 is column 0. Time taken: 0.01300048828125 seconds\n",
      "Immediate Diagonal Win: Best action for Player 1 is column 3. Time taken: 0.003996610641479492 seconds\n",
      "Block Opponent's Win: Best action for Player 1 is column 1. Time taken: 0.008001089096069336 seconds\n",
      "Complex Board with Winning Opportunity: Best action for Player 1 is column 2. Time taken: 0.007004976272583008 seconds\n"
     ]
    }
   ],
   "source": [
    "class HeuristicMinimaxOpeningAgent:\n",
    "    def __init__(self, depth=4):\n",
    "        self.depth = depth\n",
    "\n",
    "    def actions(self, board):\n",
    "        # If the board is empty, prefer the center column\n",
    "        if np.all(board == 0):\n",
    "            return [board.shape[1] // 2]  # Always start in the center column if possible\n",
    "        columns = range(board.shape[1])\n",
    "        sorted_columns = sorted(columns, key=lambda x: abs(x - board.shape[1] // 2))\n",
    "        available_actions = []\n",
    "        for col in sorted_columns:\n",
    "            if board[0][col] == 0:\n",
    "                available_actions.append(col)\n",
    "        return available_actions\n",
    "\n",
    "    def minimax(self, board, depth, alpha, beta, maximizingPlayer):\n",
    "        terminal_state, winner = terminal(board)\n",
    "        if depth == 0 or terminal_state:\n",
    "            return utility(board), None\n",
    "\n",
    "        if maximizingPlayer:\n",
    "            max_eval = -float('inf')\n",
    "            best_action = None\n",
    "            for action in self.actions(board):\n",
    "                result_board = result(board, action, 1)\n",
    "                eval, _ = self.minimax(result_board, depth - 1, alpha, beta, False)\n",
    "                if eval > max_eval:\n",
    "                    max_eval = eval\n",
    "                    best_action = action\n",
    "                alpha = max(alpha, eval)\n",
    "                if beta <= alpha:\n",
    "                    break\n",
    "            return max_eval, best_action\n",
    "        else:\n",
    "            min_eval = float('inf')\n",
    "            best_action = None\n",
    "            for action in self.actions(board):\n",
    "                result_board = result(board, action, -1)\n",
    "                eval, _ = self.minimax(result_board, depth - 1, alpha, beta, True)\n",
    "                if eval < min_eval:\n",
    "                    min_eval = eval\n",
    "                    best_action = action\n",
    "                beta = min(beta, eval)\n",
    "                if beta <= alpha:\n",
    "                    break\n",
    "            return min_eval, best_action\n",
    "\n",
    "\n",
    "    def choose_action(self, board, player=1):\n",
    "        _, action = self.minimax(board, self.depth, -float('inf'), float('inf'), player == 1)\n",
    "        return action\n",
    "\n",
    "# Test the agent on each board\n",
    "for description, board in boards.items():\n",
    "    start_time = time.time()  # Record the start time\n",
    "    action = agent.choose_action(board, player=1)\n",
    "    end_time = time.time()  # Record the end time\n",
    "    elapsed_time = end_time - start_time  # Calculate the elapsed time\n",
    "    print(f\"{description}: Best action for Player 1 is column {action}. Time taken: {elapsed_time} seconds\")\n",
    "\n"
   ],
   "metadata": {
    "collapsed": false,
    "ExecuteTime": {
     "end_time": "2024-04-23T01:58:26.897348300Z",
     "start_time": "2024-04-23T01:58:26.769893200Z"
    }
   }
  },
  {
   "cell_type": "markdown",
   "metadata": {
    "id": "rA3P0AnWeWDK"
   },
   "source": [
    "### Cutting Off Search [10 points]\n",
    "\n",
    "Modify your minimax search with alpha-beta pruning to cut off search at a specified depth and use the heuristic evaluation function. Experiment with different cutoff values."
   ]
  },
  {
   "cell_type": "code",
   "execution_count": 41,
   "metadata": {
    "id": "WThFRg6qeWDK",
    "ExecuteTime": {
     "end_time": "2024-04-23T01:57:35.643506700Z",
     "start_time": "2024-04-23T01:57:35.629508600Z"
    }
   },
   "outputs": [],
   "source": [
    "# Your code/ answer goes here.\n",
    "#I already implemented this earlier on in the lab the specified depth value allows you to limit how deep the tree is explored."
   ]
  },
  {
   "cell_type": "markdown",
   "metadata": {
    "id": "3OAS8EjWeWDL"
   },
   "source": [
    "Experiment with the same manually created boards as above to check if the agent spots wining opportunities."
   ]
  },
  {
   "cell_type": "code",
   "execution_count": 44,
   "metadata": {
    "id": "gAqW-2sAeWDL",
    "ExecuteTime": {
     "end_time": "2024-04-23T01:58:29.493499500Z",
     "start_time": "2024-04-23T01:58:29.453503Z"
    }
   },
   "outputs": [
    {
     "name": "stdout",
     "output_type": "stream",
     "text": [
      "Immediate Horizontal Win: Best action for Player 1 is column 3. Time taken: 0.007999181747436523 seconds\n",
      "Immediate Vertical Win: Best action for Player 1 is column 0. Time taken: 0.012999773025512695 seconds\n",
      "Immediate Diagonal Win: Best action for Player 1 is column 3. Time taken: 0.004001140594482422 seconds\n",
      "Block Opponent's Win: Best action for Player 1 is column 1. Time taken: 0.00800013542175293 seconds\n",
      "Complex Board with Winning Opportunity: Best action for Player 1 is column 2. Time taken: 0.005999326705932617 seconds\n"
     ]
    }
   ],
   "source": [
    "# Your code/ answer goes here.\n",
    "\n",
    "# Test the agent on each board\n",
    "for description, board in boards.items():\n",
    "    start_time = time.time()  # Record the start time\n",
    "    action = agent.choose_action(board, player=1)\n",
    "    end_time = time.time()  # Record the end time\n",
    "    elapsed_time = end_time - start_time  # Calculate the elapsed time\n",
    "    print(f\"{description}: Best action for Player 1 is column {action}. Time taken: {elapsed_time} seconds\")"
   ]
  },
  {
   "cell_type": "markdown",
   "metadata": {
    "id": "C9H_t4QFeWDL"
   },
   "source": [
    "How long does it take to make a move? Start with a smaller board with 4 columns and make the board larger by adding columns."
   ]
  },
  {
   "cell_type": "code",
   "execution_count": 75,
   "outputs": [],
   "source": [
    "def empty_board(size):\n",
    "    return np.zeros((size, size), dtype=int)\n",
    "\n",
    "def actions(board):\n",
    "    return [col for col in range(board.shape[1]) if board[0][col] == 0]\n",
    "\n",
    "def result(board, action, player):\n",
    "    new_board = board.copy()\n",
    "    for row in reversed(range(board.shape[0])):\n",
    "        if new_board[row][action] == 0:\n",
    "            new_board[row][action] = player\n",
    "            break\n",
    "    return new_board\n",
    "\n",
    "def terminal(board):\n",
    "    n = board.shape[0]\n",
    "    # Check rows, columns and diagonals\n",
    "    for i in range(n):\n",
    "        for j in range(n - 3):\n",
    "            # Horizontal\n",
    "            if np.all(board[i, j:j+4] == board[i, j]) and board[i, j] != 0:\n",
    "                return True, board[i, j]\n",
    "            # Vertical\n",
    "            if np.all(board[j:j+4, i] == board[j, i]) and board[j, i] != 0:\n",
    "                return True, board[j, i]\n",
    "\n",
    "    # Diagonals\n",
    "    for i in range(n - 3):\n",
    "        for j in range(n - 3):\n",
    "            if np.all([board[i+k, j+k] == board[i, j] for k in range(4)]) and board[i, j] != 0:\n",
    "                return True, board[i, j]\n",
    "            if np.all([board[i+3-k, j+k] == board[i+3, j] for k in range(4)]) and board[i+3, j] != 0:\n",
    "                return True, board[i+3, j]\n",
    "\n",
    "    if np.all(board != 0):\n",
    "        return True, 0\n",
    "\n",
    "    return False, None\n",
    "\n",
    "def heuristic(board, player):\n",
    "    opponent = -player\n",
    "    scores = {player: 0, opponent: 0}\n",
    "    lines = []\n",
    "    n = board.shape[0]\n",
    "    for i in range(n):\n",
    "        lines.append(board[i, :])  # Horizontal\n",
    "        lines.append(board[:, i])  # Vertical\n",
    "\n",
    "    lines.append(np.diag(board))  # Main diagonal\n",
    "    lines.append(np.diag(np.fliplr(board)))  # Anti-diagonal\n",
    "\n",
    "    for line in lines:\n",
    "        for p in [player, opponent]:\n",
    "            for count in [2, 3]:\n",
    "                if np.count_nonzero(line == p) == count and np.count_nonzero(line == 0) == 4 - count:\n",
    "                    scores[p] += count\n",
    "\n",
    "    return scores[player] - scores[opponent]\n",
    "\n",
    "def utility(board):\n",
    "    term, winner = terminal(board)\n",
    "    if term:\n",
    "        if winner == 1 or winner == -1:\n",
    "            return winner * 1000\n",
    "        else:\n",
    "            return 0\n",
    "    else:\n",
    "        return heuristic(board, 1)"
   ],
   "metadata": {
    "collapsed": false,
    "ExecuteTime": {
     "end_time": "2024-04-23T02:41:02.961373300Z",
     "start_time": "2024-04-23T02:41:02.944375700Z"
    }
   }
  },
  {
   "cell_type": "code",
   "execution_count": 51,
   "metadata": {
    "id": "qXxuAIwieWDL",
    "ExecuteTime": {
     "end_time": "2024-04-23T02:03:58.140778800Z",
     "start_time": "2024-04-23T02:03:44.415314400Z"
    }
   },
   "outputs": [
    {
     "name": "stdout",
     "output_type": "stream",
     "text": [
      "Time for 4x4 board: 0.12 seconds\n",
      "Time for 5x5 board: 0.79 seconds\n",
      "Time for 6x6 board: 1.06 seconds\n",
      "Time for 7x7 board: 2.95 seconds\n",
      "Time for 8x8 board: 9.01 seconds\n"
     ]
    },
    {
     "data": {
      "text/plain": "<Figure size 640x480 with 1 Axes>",
      "image/png": "[encoded data removed]"
     },
     "metadata": {},
     "output_type": "display_data"
    }
   ],
   "source": [
    "# Your code/ answer goes here.\n",
    "def simulate_game(board_size):\n",
    "    board = empty_board(board_size)\n",
    "    player = 1\n",
    "    start_time = time.time()\n",
    "\n",
    "    while True:\n",
    "        action = agent.choose_action(board, player)\n",
    "        board = result(board, action, player)\n",
    "        term, winner = terminal(board)\n",
    "        if term:\n",
    "            break\n",
    "        player *= -1\n",
    "\n",
    "    return time.time() - start_time\n",
    "\n",
    "# Collect data across different board sizes\n",
    "times = []\n",
    "sizes = range(4, 9)  # From 4x4 to 8x8\n",
    "for size in sizes:\n",
    "    t = simulate_game(size)\n",
    "    times.append(t)\n",
    "    print(f\"Time for {size}x{size} board: {t:.2f} seconds\")\n",
    "\n",
    "# Plotting the results\n",
    "plt.plot(sizes, times, marker='o')\n",
    "plt.xlabel('Board Size')\n",
    "plt.ylabel('Time (seconds)')\n",
    "plt.title('Performance of Heuristic Alpha-Beta Agent Across Board Sizes')\n",
    "plt.grid(True)\n",
    "plt.show()\n"
   ]
  },
  {
   "cell_type": "markdown",
   "metadata": {
    "id": "hXeBP7DJeWDL"
   },
   "source": [
    "### Playtime [5 points]\n",
    "\n",
    "Let two heuristic search agents (different cutoff depth, different heuristic evaluation function) compete against each other on a reasonably sized board. Since there is no randomness, you only need to let them play once."
   ]
  },
  {
   "cell_type": "code",
   "execution_count": 71,
   "outputs": [],
   "source": [
    "class HeuristicMinimaxOpeningAgent:\n",
    "    def __init__(self, depth):\n",
    "        self.depth = depth\n",
    "\n",
    "    def minimax(self, board, depth, alpha, beta, player):\n",
    "        terminal_state, winner = terminal(board)\n",
    "        if depth == 0 or terminal_state:\n",
    "            return utility(board), None\n",
    "\n",
    "        best_value = float('-inf') if player == 1 else float('inf')\n",
    "        best_action = None\n",
    "        for action in actions(board):\n",
    "            new_board = result(board, action, player)\n",
    "            eval, _ = self.minimax(new_board, depth - 1, alpha, beta, -player)\n",
    "            if player == 1:  # Maximizing player\n",
    "                if eval > best_value:\n",
    "                    best_value = eval\n",
    "                    best_action = action\n",
    "                alpha = max(alpha, eval)\n",
    "            else:  # Minimizing player\n",
    "                if eval < best_value:\n",
    "                    best_value = eval\n",
    "                    best_action = action\n",
    "                beta = min(beta, eval)\n",
    "            if beta <= alpha:\n",
    "                break\n",
    "        return best_value, best_action\n",
    "\n",
    "    def choose_action(self, board, player):\n",
    "        _, action = self.minimax(board, self.depth, float('-inf'), float('inf'), player)\n",
    "        return action\n",
    "\n",
    "\n"
   ],
   "metadata": {
    "collapsed": false,
    "ExecuteTime": {
     "end_time": "2024-04-23T02:28:10.454246900Z",
     "start_time": "2024-04-23T02:28:10.440246500Z"
    }
   }
  },
  {
   "cell_type": "code",
   "execution_count": 72,
   "metadata": {
    "id": "G4TwEqN5eWDL",
    "ExecuteTime": {
     "end_time": "2024-04-23T02:37:58.248852300Z",
     "start_time": "2024-04-23T02:28:11.062892700Z"
    }
   },
   "outputs": [
    {
     "name": "stdout",
     "output_type": "stream",
     "text": [
      "Board size 4x4: Winner is Draw\n",
      "Board size 5x5: Winner is Player 2\n",
      "Board size 6x6: Winner is Draw\n",
      "Board size 7x7: Winner is Draw\n",
      "Board size 8x8: Winner is Player 2\n",
      "Board size 9x9: Winner is Player 2\n"
     ]
    },
    {
     "data": {
      "text/plain": "<Figure size 640x480 with 1 Axes>",
      "image/png": "[encoded data removed]"
     },
     "metadata": {},
     "output_type": "display_data"
    }
   ],
   "source": [
    "# Your code/ answer goes here.\n",
    "def play_game(board_size, depth1, depth2):\n",
    "    board = empty_board(board_size)\n",
    "    agent1 = HeuristicMinimaxOpeningAgent(depth1)\n",
    "    agent2 = HeuristicMinimaxOpeningAgent(depth2)\n",
    "    current_player = 1  # Player 1 starts\n",
    "\n",
    "    while True:\n",
    "        if current_player == 1:\n",
    "            action = agent1.choose_action(board, current_player)\n",
    "        else:\n",
    "            action = agent2.choose_action(board, current_player)\n",
    "\n",
    "        board = result(board, action, current_player)\n",
    "        terminal_state, winner = terminal(board)\n",
    "        if terminal_state:\n",
    "            return winner\n",
    "        current_player *= -1\n",
    "\n",
    "def simulate_games(board_sizes, depth1, depth2):\n",
    "    results = {size: [] for size in board_sizes}\n",
    "    for size in board_sizes:\n",
    "        winner = play_game(size, depth1, depth2)\n",
    "        results[size].append(winner)\n",
    "        print(f\"Board size {size}x{size}: Winner is {'Player 1' if winner == 1 else 'Player 2' if winner == -1 else 'Draw'}\")\n",
    "    return results\n",
    "\n",
    "import matplotlib.pyplot as plt\n",
    "\n",
    "def plot_results(results):\n",
    "    win_depth4 = []\n",
    "    win_depth8 = []\n",
    "    draws = []\n",
    "    sizes = sorted(results.keys())\n",
    "    for size in sizes:\n",
    "        wins4 = sum(1 for result in results[size] if result == 1)\n",
    "        wins8 = sum(1 for result in results[size] if result == -1)\n",
    "        draw = sum(1 for result in results[size] if result == 0)\n",
    "        win_depth4.append(wins4)\n",
    "        win_depth8.append(wins8)\n",
    "        draws.append(draw)\n",
    "\n",
    "    plt.plot(sizes, win_depth4, label='Wins Depth 4', marker='o')\n",
    "    plt.plot(sizes, win_depth8, label='Wins Depth 8', marker='o')\n",
    "    plt.plot(sizes, draws, label='Draws', marker='o')\n",
    "    plt.xlabel('Board Size')\n",
    "    plt.ylabel('Number of Wins/Draws')\n",
    "    plt.title('Performance Comparison of Depths 4 vs 8')\n",
    "    plt.legend()\n",
    "    plt.grid(True)\n",
    "    plt.show()\n",
    "\n",
    "# Running the simulation and plotting\n",
    "board_sizes = range(4, 10)  # From 4x4 to 9x9\n",
    "results = simulate_games(board_sizes, 4, 8)\n",
    "plot_results(results)\n"
   ]
  },
  {
   "cell_type": "markdown",
   "source": [
    "# Results\n",
    "Overall both were very close when challenging each other, but the extra 4 depth that player 2 had allowed it to win at some board sizes over player1."
   ],
   "metadata": {
    "collapsed": false
   }
  },
  {
   "cell_type": "markdown",
   "metadata": {
    "id": "reIAHMjeeWDP"
   },
   "source": [
    "## Challenge task [up to +10 bonus point will be awarded separately]\n",
    "\n",
    "Find another student and let your best agent play against the other student's best player. We will set up a class tournament on Canvas. This tournament will continue after the submission deadline."
   ]
  },
  {
   "cell_type": "markdown",
   "metadata": {
    "id": "Mr2xJS6ueWDP"
   },
   "source": [
    "## Graduate student advanced task: Pure Monte Carlo Search and Best First Move [10 point]\n",
    "\n",
    "__Undergraduate students:__ This is a bonus task you can attempt if you like [+5 bonus point].\n",
    "\n",
    "### Pure Monte Carlo Search\n",
    "\n",
    "Implement Pure Monte Carlo Search and investigate how this search performs on the test boards that you have used above."
   ]
  },
  {
   "cell_type": "code",
   "execution_count": 79,
   "metadata": {
    "id": "BMepYd2ieWDP",
    "ExecuteTime": {
     "end_time": "2024-04-23T02:43:01.563026500Z",
     "start_time": "2024-04-23T02:42:53.945755200Z"
    }
   },
   "outputs": [
    {
     "name": "stdout",
     "output_type": "stream",
     "text": [
      "Immediate Horizontal Win: Best action for Player 1 is column 3. Time taken: 1.7039861679077148 seconds\n",
      "Immediate Vertical Win: Best action for Player 1 is column 0. Time taken: 1.1242141723632812 seconds\n",
      "Immediate Diagonal Win: Best action for Player 1 is column 3. Time taken: 0.9984095096588135 seconds\n",
      "Block Opponent's Win: Best action for Player 1 is column 0. Time taken: 1.4553134441375732 seconds\n",
      "Complex Board with Winning Opportunity: Best action for Player 1 is column 2. Time taken: 2.323323965072632 seconds\n"
     ]
    }
   ],
   "source": [
    "import random\n",
    "\n",
    "\n",
    "# Your code/ answer goes here.\n",
    "class MonteCarloAgent:\n",
    "    def __init__(self, num_simulations):\n",
    "        self.num_simulations = num_simulations\n",
    "\n",
    "    def simulate_game(self, board, start_player):\n",
    "        current_player = start_player\n",
    "        current_board = board.copy()\n",
    "        while True:\n",
    "            terminal_state, winner = terminal(current_board)  # Renamed variable here\n",
    "            if terminal_state:\n",
    "                return winner\n",
    "            possible_actions = actions(current_board)\n",
    "            if not possible_actions:\n",
    "                return None  # Draw\n",
    "            action = random.choice(possible_actions)\n",
    "            current_board = result(current_board, action, current_player)\n",
    "            current_player = -current_player  # Switch players\n",
    "\n",
    "    def monte_carlo_search(self, board, player=1):\n",
    "        action_list = actions(board)\n",
    "        win_counts = {action: 0 for action in action_list}\n",
    "\n",
    "        for action in action_list:\n",
    "            for _ in range(self.num_simulations):\n",
    "                new_board = result(board, action, player)\n",
    "                winner = self.simulate_game(new_board, -player)\n",
    "                if winner == player:\n",
    "                    win_counts[action] += 1\n",
    "\n",
    "        best_action = max(win_counts, key=win_counts.get)\n",
    "        return best_action, win_counts[best_action] / self.num_simulations\n",
    "\n",
    "    def choose_action(self, board, player=1):\n",
    "        best_action, _ = self.monte_carlo_search(board, player)\n",
    "        return best_action\n",
    "\n",
    "\n",
    "# Test the agent on each board\n",
    "agent = MonteCarloAgent(num_simulations=1000)\n",
    "for description, board in boards.items():\n",
    "    start_time = time.time()  # Record the start time\n",
    "    action = agent.choose_action(board, player=1)\n",
    "    end_time = time.time()  # Record the end time\n",
    "    elapsed_time = end_time - start_time  # Calculate the elapsed time\n",
    "    print(f\"{description}: Best action for Player 1 is column {action}. Time taken: {elapsed_time} seconds\")"
   ]
  },
  {
   "cell_type": "markdown",
   "metadata": {
    "id": "8k2gE8LIeWDP"
   },
   "source": [
    "### Best First Move\n",
    "\n",
    "Use Oure Monte Carlo Search to determine what the best first move is? Describe under what assumptions this is the \"best\" first move.  "
   ]
  },
  {
   "cell_type": "code",
   "execution_count": 80,
   "metadata": {
    "id": "kLuE7UTUeWDP",
    "ExecuteTime": {
     "end_time": "2024-04-23T02:44:40.375445700Z",
     "start_time": "2024-04-23T02:44:07.277818600Z"
    }
   },
   "outputs": [
    {
     "name": "stdout",
     "output_type": "stream",
     "text": [
      "Best first move: Column 2, with an estimated win rate of 0.60\n"
     ]
    }
   ],
   "source": [
    "# Your code/ answer goes here.\n",
    "board_size = 6  #\n",
    "board = empty_board(board_size)  # Creates an empty board\n",
    "agent = MonteCarloAgent(num_simulations=1000)  # More simulations for more accuracy\n",
    "best_first_move, win_rate = agent.monte_carlo_search(board, player=1)\n",
    "print(f\"Best first move: Column {best_first_move}, with an estimated win rate of {win_rate:.2f}\")\n"
   ]
  },
  {
   "cell_type": "code",
   "execution_count": null,
   "outputs": [],
   "source": [
    "# we assume random opposition play. Our simulation resulted in a best first move of column 2 which is expected because middle columns are more powerful in the game. By doing many simulations we get a statistically significant result for what move would be good to do."
   ],
   "metadata": {
    "collapsed": false
   }
  }
 ],
 "metadata": {
  "kernelspec": {
   "display_name": "Python 3 (ipykernel)",
   "language": "python",
   "name": "python3"
  },
  "language_info": {
   "codemirror_mode": {
    "name": "ipython",
    "version": 3
   },
   "file_extension": ".py",
   "mimetype": "text/x-python",
   "name": "python",
   "nbconvert_exporter": "python",
   "pygments_lexer": "ipython3",
   "version": "3.10.12"
  },
  "colab": {
   "provenance": []
  }
 },
 "nbformat": 4,
 "nbformat_minor": 0
}
